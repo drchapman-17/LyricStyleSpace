{
  "cells": [
    {
      "cell_type": "markdown",
      "metadata": {
        "id": "pD0cohjc0z6i"
      },
      "source": [
        "### Run only on Colab"
      ]
    },
    {
      "cell_type": "code",
      "execution_count": 1,
      "metadata": {
        "id": "Ou3V87hT0z6o",
        "colab": {
          "base_uri": "https://localhost:8080/"
        },
        "outputId": "7fb8ae60-a643-447d-de75-0b33ba7ad67f"
      },
      "outputs": [
        {
          "metadata": {
            "tags": null
          },
          "name": "stdout",
          "output_type": "stream",
          "text": [
            "Looking in indexes: https://pypi.org/simple, https://us-python.pkg.dev/colab-wheels/public/simple/\n",
            "Collecting transformers\n",
            "  Downloading transformers-4.26.1-py3-none-any.whl (6.3 MB)\n",
            "\u001b[2K     \u001b[90m━━━━━━━━━━━━━━━━━━━━━━━━━━━━━━━━━━━━━━━━\u001b[0m \u001b[32m6.3/6.3 MB\u001b[0m \u001b[31m37.7 MB/s\u001b[0m eta \u001b[36m0:00:00\u001b[0m\n",
            "\u001b[?25hCollecting datasets\n",
            "  Downloading datasets-2.10.1-py3-none-any.whl (469 kB)\n",
            "\u001b[2K     \u001b[90m━━━━━━━━━━━━━━━━━━━━━━━━━━━━━━━━━━━━━━\u001b[0m \u001b[32m469.0/469.0 KB\u001b[0m \u001b[31m30.9 MB/s\u001b[0m eta \u001b[36m0:00:00\u001b[0m\n",
            "\u001b[?25hCollecting pytorch_metric_learning\n",
            "  Downloading pytorch_metric_learning-2.0.1-py3-none-any.whl (109 kB)\n",
            "\u001b[2K     \u001b[90m━━━━━━━━━━━━━━━━━━━━━━━━━━━━━━━━━━━━━━━\u001b[0m \u001b[32m109.3/109.3 KB\u001b[0m \u001b[31m8.6 MB/s\u001b[0m eta \u001b[36m0:00:00\u001b[0m\n",
            "\u001b[?25hCollecting faiss-gpu\n",
            "  Downloading faiss_gpu-1.7.2-cp39-cp39-manylinux_2_17_x86_64.manylinux2014_x86_64.whl (85.5 MB)\n",
            "\u001b[2K     \u001b[90m━━━━━━━━━━━━━━━━━━━━━━━━━━━━━━━━━━━━━━━━\u001b[0m \u001b[32m85.5/85.5 MB\u001b[0m \u001b[31m8.6 MB/s\u001b[0m eta \u001b[36m0:00:00\u001b[0m\n",
            "\u001b[?25hRequirement already satisfied: filelock in /usr/local/lib/python3.9/dist-packages (from transformers) (3.9.0)\n",
            "Requirement already satisfied: numpy>=1.17 in /usr/local/lib/python3.9/dist-packages (from transformers) (1.22.4)\n",
            "Requirement already satisfied: tqdm>=4.27 in /usr/local/lib/python3.9/dist-packages (from transformers) (4.65.0)\n",
            "Requirement already satisfied: regex!=2019.12.17 in /usr/local/lib/python3.9/dist-packages (from transformers) (2022.6.2)\n",
            "Requirement already satisfied: packaging>=20.0 in /usr/local/lib/python3.9/dist-packages (from transformers) (23.0)\n",
            "Requirement already satisfied: requests in /usr/local/lib/python3.9/dist-packages (from transformers) (2.25.1)\n",
            "Requirement already satisfied: pyyaml>=5.1 in /usr/local/lib/python3.9/dist-packages (from transformers) (6.0)\n",
            "Collecting huggingface-hub<1.0,>=0.11.0\n",
            "  Downloading huggingface_hub-0.13.0-py3-none-any.whl (199 kB)\n",
            "\u001b[2K     \u001b[90m━━━━━━━━━━━━━━━━━━━━━━━━━━━━━━━━━━━━━━\u001b[0m \u001b[32m199.1/199.1 KB\u001b[0m \u001b[31m24.1 MB/s\u001b[0m eta \u001b[36m0:00:00\u001b[0m\n",
            "\u001b[?25hCollecting tokenizers!=0.11.3,<0.14,>=0.11.1\n",
            "  Downloading tokenizers-0.13.2-cp39-cp39-manylinux_2_17_x86_64.manylinux2014_x86_64.whl (7.6 MB)\n",
            "\u001b[2K     \u001b[90m━━━━━━━━━━━━━━━━━━━━━━━━━━━━━━━━━━━━━━━━\u001b[0m \u001b[32m7.6/7.6 MB\u001b[0m \u001b[31m35.3 MB/s\u001b[0m eta \u001b[36m0:00:00\u001b[0m\n",
            "\u001b[?25hRequirement already satisfied: fsspec[http]>=2021.11.1 in /usr/local/lib/python3.9/dist-packages (from datasets) (2023.3.0)\n",
            "Collecting responses<0.19\n",
            "  Downloading responses-0.18.0-py3-none-any.whl (38 kB)\n",
            "Requirement already satisfied: pyarrow>=6.0.0 in /usr/local/lib/python3.9/dist-packages (from datasets) (9.0.0)\n",
            "Collecting multiprocess\n",
            "  Downloading multiprocess-0.70.14-py39-none-any.whl (132 kB)\n",
            "\u001b[2K     \u001b[90m━━━━━━━━━━━━━━━━━━━━━━━━━━━━━━━━━━━━━━\u001b[0m \u001b[32m132.9/132.9 KB\u001b[0m \u001b[31m18.1 MB/s\u001b[0m eta \u001b[36m0:00:00\u001b[0m\n",
            "\u001b[?25hCollecting xxhash\n",
            "  Downloading xxhash-3.2.0-cp39-cp39-manylinux_2_17_x86_64.manylinux2014_x86_64.whl (212 kB)\n",
            "\u001b[2K     \u001b[90m━━━━━━━━━━━━━━━━━━━━━━━━━━━━━━━━━━━━━━\u001b[0m \u001b[32m212.2/212.2 KB\u001b[0m \u001b[31m23.8 MB/s\u001b[0m eta \u001b[36m0:00:00\u001b[0m\n",
            "\u001b[?25hCollecting dill<0.3.7,>=0.3.0\n",
            "  Downloading dill-0.3.6-py3-none-any.whl (110 kB)\n",
            "\u001b[2K     \u001b[90m━━━━━━━━━━━━━━━━━━━━━━━━━━━━━━━━━━━━━━\u001b[0m \u001b[32m110.5/110.5 KB\u001b[0m \u001b[31m10.7 MB/s\u001b[0m eta \u001b[36m0:00:00\u001b[0m\n",
            "\u001b[?25hRequirement already satisfied: pandas in /usr/local/lib/python3.9/dist-packages (from datasets) (1.3.5)\n",
            "Collecting aiohttp\n",
            "  Downloading aiohttp-3.8.4-cp39-cp39-manylinux_2_17_x86_64.manylinux2014_x86_64.whl (1.0 MB)\n",
            "\u001b[2K     \u001b[90m━━━━━━━━━━━━━━━━━━━━━━━━━━━━━━━━━━━━━━━━\u001b[0m \u001b[32m1.0/1.0 MB\u001b[0m \u001b[31m43.1 MB/s\u001b[0m eta \u001b[36m0:00:00\u001b[0m\n",
            "\u001b[?25hRequirement already satisfied: torch>=1.6.0 in /usr/local/lib/python3.9/dist-packages (from pytorch_metric_learning) (1.13.1+cu116)\n",
            "Requirement already satisfied: scikit-learn in /usr/local/lib/python3.9/dist-packages (from pytorch_metric_learning) (1.2.1)\n",
            "Collecting frozenlist>=1.1.1\n",
            "  Downloading frozenlist-1.3.3-cp39-cp39-manylinux_2_5_x86_64.manylinux1_x86_64.manylinux_2_17_x86_64.manylinux2014_x86_64.whl (158 kB)\n",
            "\u001b[2K     \u001b[90m━━━━━━━━━━━━━━━━━━━━━━━━━━━━━━━━━━━━━━\u001b[0m \u001b[32m158.8/158.8 KB\u001b[0m \u001b[31m18.8 MB/s\u001b[0m eta \u001b[36m0:00:00\u001b[0m\n",
            "\u001b[?25hCollecting charset-normalizer<4.0,>=2.0\n",
            "  Downloading charset_normalizer-3.1.0-cp39-cp39-manylinux_2_17_x86_64.manylinux2014_x86_64.whl (199 kB)\n",
            "\u001b[2K     \u001b[90m━━━━━━━━━━━━━━━━━━━━━━━━━━━━━━━━━━━━━━\u001b[0m \u001b[32m199.2/199.2 KB\u001b[0m \u001b[31m16.2 MB/s\u001b[0m eta \u001b[36m0:00:00\u001b[0m\n",
            "\u001b[?25hRequirement already satisfied: attrs>=17.3.0 in /usr/local/lib/python3.9/dist-packages (from aiohttp->datasets) (22.2.0)\n",
            "Collecting async-timeout<5.0,>=4.0.0a3\n",
            "  Downloading async_timeout-4.0.2-py3-none-any.whl (5.8 kB)\n",
            "Collecting yarl<2.0,>=1.0\n",
            "  Downloading yarl-1.8.2-cp39-cp39-manylinux_2_17_x86_64.manylinux2014_x86_64.whl (264 kB)\n",
            "\u001b[2K     \u001b[90m━━━━━━━━━━━━━━━━━━━━━━━━━━━━━━━━━━━━━━\u001b[0m \u001b[32m264.6/264.6 KB\u001b[0m \u001b[31m34.6 MB/s\u001b[0m eta \u001b[36m0:00:00\u001b[0m\n",
            "\u001b[?25hCollecting aiosignal>=1.1.2\n",
            "  Downloading aiosignal-1.3.1-py3-none-any.whl (7.6 kB)\n",
            "Collecting multidict<7.0,>=4.5\n",
            "  Downloading multidict-6.0.4-cp39-cp39-manylinux_2_17_x86_64.manylinux2014_x86_64.whl (114 kB)\n",
            "\u001b[2K     \u001b[90m━━━━━━━━━━━━━━━━━━━━━━━━━━━━━━━━━━━━━━\u001b[0m \u001b[32m114.2/114.2 KB\u001b[0m \u001b[31m16.2 MB/s\u001b[0m eta \u001b[36m0:00:00\u001b[0m\n",
            "\u001b[?25hRequirement already satisfied: typing-extensions>=3.7.4.3 in /usr/local/lib/python3.9/dist-packages (from huggingface-hub<1.0,>=0.11.0->transformers) (4.5.0)\n",
            "Requirement already satisfied: idna<3,>=2.5 in /usr/local/lib/python3.9/dist-packages (from requests->transformers) (2.10)\n",
            "Requirement already satisfied: urllib3<1.27,>=1.21.1 in /usr/local/lib/python3.9/dist-packages (from requests->transformers) (1.26.14)\n",
            "Requirement already satisfied: certifi>=2017.4.17 in /usr/local/lib/python3.9/dist-packages (from requests->transformers) (2022.12.7)\n",
            "Requirement already satisfied: chardet<5,>=3.0.2 in /usr/local/lib/python3.9/dist-packages (from requests->transformers) (4.0.0)\n",
            "Requirement already satisfied: python-dateutil>=2.7.3 in /usr/local/lib/python3.9/dist-packages (from pandas->datasets) (2.8.2)\n",
            "Requirement already satisfied: pytz>=2017.3 in /usr/local/lib/python3.9/dist-packages (from pandas->datasets) (2022.7.1)\n",
            "Requirement already satisfied: joblib>=1.1.1 in /usr/local/lib/python3.9/dist-packages (from scikit-learn->pytorch_metric_learning) (1.2.0)\n",
            "Requirement already satisfied: scipy>=1.3.2 in /usr/local/lib/python3.9/dist-packages (from scikit-learn->pytorch_metric_learning) (1.10.1)\n",
            "Requirement already satisfied: threadpoolctl>=2.0.0 in /usr/local/lib/python3.9/dist-packages (from scikit-learn->pytorch_metric_learning) (3.1.0)\n",
            "Requirement already satisfied: six>=1.5 in /usr/local/lib/python3.9/dist-packages (from python-dateutil>=2.7.3->pandas->datasets) (1.15.0)\n",
            "Installing collected packages: tokenizers, faiss-gpu, xxhash, multidict, frozenlist, dill, charset-normalizer, async-timeout, yarl, responses, multiprocess, huggingface-hub, aiosignal, transformers, pytorch_metric_learning, aiohttp, datasets\n",
            "Successfully installed aiohttp-3.8.4 aiosignal-1.3.1 async-timeout-4.0.2 charset-normalizer-3.1.0 datasets-2.10.1 dill-0.3.6 faiss-gpu-1.7.2 frozenlist-1.3.3 huggingface-hub-0.13.0 multidict-6.0.4 multiprocess-0.70.14 pytorch_metric_learning-2.0.1 responses-0.18.0 tokenizers-0.13.2 transformers-4.26.1 xxhash-3.2.0 yarl-1.8.2\n"
          ]
        }
      ],
      "source": [
        "! pip install transformers datasets pytorch_metric_learning faiss-gpu"
      ]
    },
    {
      "cell_type": "code",
      "execution_count": 2,
      "metadata": {
        "id": "boU07c5g0z6q",
        "colab": {
          "base_uri": "https://localhost:8080/"
        },
        "outputId": "fa5c61b7-5752-46e9-c49d-4e675c0c7942"
      },
      "outputs": [
        {
          "metadata": {
            "tags": null
          },
          "name": "stdout",
          "output_type": "stream",
          "text": [
            "--2023-03-09 12:58:28--  https://raw.githubusercontent.com/drchapman-17/LyricStyleSpace/main/data.json\n",
            "Resolving raw.githubusercontent.com (raw.githubusercontent.com)... 185.199.111.133, 185.199.110.133, 185.199.109.133, ...\n",
            "Connecting to raw.githubusercontent.com (raw.githubusercontent.com)|185.199.111.133|:443... connected.\n",
            "HTTP request sent, awaiting response... 200 OK\n",
            "Length: 21129622 (20M) [text/plain]\n",
            "Saving to: ‘data.json’\n",
            "\n",
            "data.json           100%[===================>]  20.15M  --.-KB/s    in 0.07s   \n",
            "\n",
            "2023-03-09 12:58:29 (296 MB/s) - ‘data.json’ saved [21129622/21129622]\n",
            "\n"
          ]
        }
      ],
      "source": [
        "! wget https://raw.githubusercontent.com/drchapman-17/LyricStyleSpace/main/data.json"
      ]
    },
    {
      "cell_type": "markdown",
      "metadata": {
        "id": "nnSYJG3o0z6q"
      },
      "source": [
        "## Preliminary Steps"
      ]
    },
    {
      "cell_type": "code",
      "execution_count": 3,
      "metadata": {
        "id": "luNBiqxW0z6r",
        "colab": {
          "base_uri": "https://localhost:8080/",
          "height": 146,
          "referenced_widgets": [
            "a6270a5b67b44fba8207ec94145f6bc3",
            "bc7f2608609b470697083ffb1a9b036a",
            "9e7ce8c9e9af4d89832196fbf54a2e63",
            "fad1f27135c5497c809f47648a1a9f18",
            "fc94cd41792b4d8a84c6d01fc1617ee8"
          ]
        },
        "outputId": "ca4f4046-6f47-4faa-99d5-5976af25d6a1"
      },
      "outputs": [
        {
          "metadata": {
            "tags": null
          },
          "name": "stdout",
          "output_type": "stream",
          "text": [
            "Downloading and preparing dataset json/default to /root/.cache/huggingface/datasets/json/default-c164864c16d2bbf6/0.0.0/0f7e3662623656454fcd2b650f34e886a7db4b9104504885bd462096cc7a9f51...\n"
          ]
        },
        {
          "data": {
            "application/vnd.jupyter.widget-view+json": {
              "model_id": "a6270a5b67b44fba8207ec94145f6bc3",
              "version_major": 2,
              "version_minor": 0
            },
            "text/plain": [
              "Downloading data files:   0%|          | 0/1 [00:00<?, ?it/s]"
            ]
          },
          "metadata": {},
          "output_type": "display_data"
        },
        {
          "data": {
            "application/vnd.jupyter.widget-view+json": {
              "model_id": "bc7f2608609b470697083ffb1a9b036a",
              "version_major": 2,
              "version_minor": 0
            },
            "text/plain": [
              "Extracting data files:   0%|          | 0/1 [00:00<?, ?it/s]"
            ]
          },
          "metadata": {},
          "output_type": "display_data"
        },
        {
          "data": {
            "application/vnd.jupyter.widget-view+json": {
              "model_id": "9e7ce8c9e9af4d89832196fbf54a2e63",
              "version_major": 2,
              "version_minor": 0
            },
            "text/plain": [
              "Generating train split: 0 examples [00:00, ? examples/s]"
            ]
          },
          "metadata": {},
          "output_type": "display_data"
        },
        {
          "metadata": {
            "tags": null
          },
          "name": "stdout",
          "output_type": "stream",
          "text": [
            "Dataset json downloaded and prepared to /root/.cache/huggingface/datasets/json/default-c164864c16d2bbf6/0.0.0/0f7e3662623656454fcd2b650f34e886a7db4b9104504885bd462096cc7a9f51. Subsequent calls will reuse this data.\n"
          ]
        },
        {
          "data": {
            "application/vnd.jupyter.widget-view+json": {
              "model_id": "fad1f27135c5497c809f47648a1a9f18",
              "version_major": 2,
              "version_minor": 0
            },
            "text/plain": [
              "  0%|          | 0/1 [00:00<?, ?it/s]"
            ]
          },
          "metadata": {},
          "output_type": "display_data"
        },
        {
          "data": {
            "application/vnd.jupyter.widget-view+json": {
              "model_id": "fc94cd41792b4d8a84c6d01fc1617ee8",
              "version_major": 2,
              "version_minor": 0
            },
            "text/plain": [
              "Casting to class labels:   0%|          | 0/7185 [00:00<?, ? examples/s]"
            ]
          },
          "metadata": {},
          "output_type": "display_data"
        }
      ],
      "source": [
        "from datasets import load_dataset\n",
        "import numpy as np\n",
        "import re\n",
        "from matplotlib import pyplot as plt\n",
        "\n",
        "\n",
        "\n",
        "dataset = load_dataset('json',data_files='data.json').class_encode_column('artist')\n",
        "artists_mappings = dataset['train'].features['artist'].names"
      ]
    },
    {
      "cell_type": "code",
      "execution_count": 4,
      "metadata": {
        "id": "F23K7n3r0z6t",
        "colab": {
          "base_uri": "https://localhost:8080/",
          "height": 35,
          "referenced_widgets": [
            "515112952eba45938304deff4056546e"
          ]
        },
        "outputId": "e70e2139-684b-41f3-cf31-20b16cdad4ad"
      },
      "outputs": [
        {
          "data": {
            "application/vnd.jupyter.widget-view+json": {
              "model_id": "515112952eba45938304deff4056546e",
              "version_major": 2,
              "version_minor": 0
            },
            "text/plain": [
              "Map:   0%|          | 0/7185 [00:00<?, ? examples/s]"
            ]
          },
          "metadata": {},
          "output_type": "display_data"
        }
      ],
      "source": [
        "def clean(example):\n",
        "    allowed_parts = ['verse','break','chorus','intro', 'interlude', 'bridge', 'outro']\n",
        "    for part in allowed_parts:\n",
        "        example['lyrics']=re.sub(\"\\[.*\"+part+\".*\\]\", f\"[{part}]\", example['lyrics'], flags=re.IGNORECASE)\n",
        "    example['lyrics']=re.sub(\"\\[(?!\"+\"|\".join(allowed_parts)+\").*?\\]\", \"\", example['lyrics'], flags=re.DOTALL)\n",
        "    example['lyrics']=re.sub(\"[0-9]+embed\", \"\", example['lyrics'], flags=re.IGNORECASE)\n",
        "    return example\n",
        "\n",
        "mapped_dataset = dataset.map(clean)\n"
      ]
    },
    {
      "cell_type": "code",
      "execution_count": 5,
      "metadata": {
        "id": "hURNE0Bn0z6t",
        "colab": {
          "base_uri": "https://localhost:8080/",
          "height": 35,
          "referenced_widgets": [
            "d849915b8c734abb980b82291c03f5cd"
          ]
        },
        "outputId": "f7d3b5d9-258b-4306-a560-18fa27874f00"
      },
      "outputs": [
        {
          "data": {
            "application/vnd.jupyter.widget-view+json": {
              "model_id": "d849915b8c734abb980b82291c03f5cd",
              "version_major": 2,
              "version_minor": 0
            },
            "text/plain": [
              "Map:   0%|          | 0/7185 [00:00<?, ? examples/s]"
            ]
          },
          "metadata": {},
          "output_type": "display_data"
        }
      ],
      "source": [
        "def list_song_parts(example):\n",
        "    parts = re.findall(r'\\[[^\\[\\]]+\\]',example['lyrics']) # Capture everything enclosed in square brackets\n",
        "    for i,part in enumerate(parts): \n",
        "        parts[i] = re.sub(r':.*(?=\\])','',part) # Remove everything from : to the closing bracket ] (Most lyrics contain the name of the singer of these parts e.g. [Chorus: 2 Chainz])\n",
        "    return {'parts': parts}\n",
        "parts = mapped_dataset['train'].map(list_song_parts,remove_columns=dataset['train'].column_names)\n",
        "\n",
        "parts:np.ndarray = np.unique([el for l in parts['parts'] for el in l ])"
      ]
    },
    {
      "cell_type": "code",
      "execution_count": 6,
      "metadata": {
        "id": "mrI68AEO0z6u",
        "colab": {
          "base_uri": "https://localhost:8080/"
        },
        "outputId": "f288ef5f-7fcc-4b12-e7cb-3f5f75c6d276"
      },
      "outputs": [
        {
          "metadata": {
            "tags": null
          },
          "name": "stdout",
          "output_type": "stream",
          "text": [
            "[break] [bridge] [chorus] [interlude] [intro] [outro] [verse]\n"
          ]
        }
      ],
      "source": [
        "print(*parts)"
      ]
    },
    {
      "cell_type": "code",
      "execution_count": 7,
      "metadata": {
        "id": "kclWEHOD0z6v",
        "colab": {
          "base_uri": "https://localhost:8080/"
        },
        "outputId": "442d6489-e718-45c5-d106-0c74755a3b83"
      },
      "outputs": [
        {
          "metadata": {
            "tags": null
          },
          "name": "stdout",
          "output_type": "stream",
          "text": [
            "XO TOUR Llif3 Lyrics[Intro]\n",
            "Are you alright?\n",
            "I'm alright, I'm quite alright\n",
            "And my money's right\n",
            "8… (Yeah)\n",
            "Countin' them bands\n",
            "All way to the top 'til they be fallin' over\n",
            "(Yeah, yeah, yeah)\n",
            "Countin' them bands\n",
            "On my way to the top 'til we fallin' over\n",
            "\n",
            "[Chorus]\n",
            "I don't really care if you cry\n",
            "On the real, you shoulda never lied\n",
            "Shoulda saw the way she looked me in my eyes\n",
            "She said, \"Baby, I am not afraid to die\"\n",
            "Push me to the edge\n",
            "All my friends are dead\n",
            "Push me to the edge\n",
            "All my friends are dead\n",
            "Push me to the edge\n",
            "All my friends are dead\n",
            "Push me to the edge\n",
            "\n",
            "[Verse 1]\n",
            "Phantom that's all red, inside all white\n",
            "Like somethin' you ride a sled down, I just want that head\n",
            "My Brittany got mad, I'm barely her man now\n",
            "Everybody got the same swag now\n",
            "Watch the way that I tear it down\n",
            "Stackin' my bands all the way to the top\n",
            "All the way 'til my bands fallin' over\n",
            "Every time that you leave your spot\n",
            "Your girlfriend call me like, \"Come on over!\"\n",
            "I like the way that she treat me\n",
            "Gon' leave you, won't leave me, I call it that Casanova\n",
            "She say I'm insane, yeah\n",
            "I might blow my brain out (Hey)\n",
            "Xanny, help the pain, yeah\n",
            "Please, Xanny, make it go away\n",
            "I'm committed, not addicted, but it keep control of me\n",
            "All the pain, now I can't feel it\n",
            "I swear that it's slowin' me, yeah\n",
            "[Chorus]\n",
            "I don't really care if you cry\n",
            "On the real, you shoulda never lied\n",
            "Saw the way she looked me in my eyes\n",
            "She said, \"I am not afraid to die\" (Yeah)\n",
            "All my friends are dead\n",
            "Push me to the edge (Yeah)\n",
            "All my friends are dead, yeah, ooh\n",
            "Push me to the edge\n",
            "All my friends are dead, yeah\n",
            "All my friends are dead, yeah\n",
            "\n",
            "[Verse 2]\n",
            "That is not your swag, I swear you fake hard\n",
            "Now these niggas wanna take my cadence\n",
            "Rain on 'em, thunderstorm, rain on 'em (Ooh, yeah)\n",
            "Medicine, lil' nigga, take some (Yeh, yeh)\n",
            "Fast car, NASCAR, race on 'em\n",
            "In the club, ain't got no ones, then we would beg them\n",
            "Clothes from overseas, got the racks and they all C-Notes\n",
            "You is not a G though\n",
            "Lookin' at you stackin' all your money, it all green though\n",
            "I was countin' that and these all twenties, that's a G-roll\n",
            "\n",
            "[Bridge]\n",
            "She say, \"You're the worst, you're the worst\"\n",
            "I cannot die because this my universe\n",
            "[Chorus]\n",
            "I don't really care if you cry\n",
            "On the real, you shoulda never lied\n",
            "Shoulda saw the way she looked me in my eyes\n",
            "She said, \"Baby, I am not afraid to die\"\n",
            "Push me to the edge\n",
            "All my friends are dead\n",
            "Push me to the edge\n",
            "All my friends are dead\n",
            "Push me to the edge\n",
            "All my friends are dead\n",
            "Push me to the edge780Embed\n",
            "----------------\n",
            "XO TOUR Llif3 Lyrics[intro]\n",
            "Are you alright?\n",
            "I'm alright, I'm quite alright\n",
            "And my money's right\n",
            "8… (Yeah)\n",
            "Countin' them bands\n",
            "All way to the top 'til they be fallin' over\n",
            "(Yeah, yeah, yeah)\n",
            "Countin' them bands\n",
            "On my way to the top 'til we fallin' over\n",
            "\n",
            "[chorus]\n",
            "I don't really care if you cry\n",
            "On the real, you shoulda never lied\n",
            "Shoulda saw the way she looked me in my eyes\n",
            "She said, \"Baby, I am not afraid to die\"\n",
            "Push me to the edge\n",
            "All my friends are dead\n",
            "Push me to the edge\n",
            "All my friends are dead\n",
            "Push me to the edge\n",
            "All my friends are dead\n",
            "Push me to the edge\n",
            "\n",
            "[verse]\n",
            "Phantom that's all red, inside all white\n",
            "Like somethin' you ride a sled down, I just want that head\n",
            "My Brittany got mad, I'm barely her man now\n",
            "Everybody got the same swag now\n",
            "Watch the way that I tear it down\n",
            "Stackin' my bands all the way to the top\n",
            "All the way 'til my bands fallin' over\n",
            "Every time that you leave your spot\n",
            "Your girlfriend call me like, \"Come on over!\"\n",
            "I like the way that she treat me\n",
            "Gon' leave you, won't leave me, I call it that Casanova\n",
            "She say I'm insane, yeah\n",
            "I might blow my brain out (Hey)\n",
            "Xanny, help the pain, yeah\n",
            "Please, Xanny, make it go away\n",
            "I'm committed, not addicted, but it keep control of me\n",
            "All the pain, now I can't feel it\n",
            "I swear that it's slowin' me, yeah\n",
            "[chorus]\n",
            "I don't really care if you cry\n",
            "On the real, you shoulda never lied\n",
            "Saw the way she looked me in my eyes\n",
            "She said, \"I am not afraid to die\" (Yeah)\n",
            "All my friends are dead\n",
            "Push me to the edge (Yeah)\n",
            "All my friends are dead, yeah, ooh\n",
            "Push me to the edge\n",
            "All my friends are dead, yeah\n",
            "All my friends are dead, yeah\n",
            "\n",
            "[verse]\n",
            "That is not your swag, I swear you fake hard\n",
            "Now these niggas wanna take my cadence\n",
            "Rain on 'em, thunderstorm, rain on 'em (Ooh, yeah)\n",
            "Medicine, lil' nigga, take some (Yeh, yeh)\n",
            "Fast car, NASCAR, race on 'em\n",
            "In the club, ain't got no ones, then we would beg them\n",
            "Clothes from overseas, got the racks and they all C-Notes\n",
            "You is not a G though\n",
            "Lookin' at you stackin' all your money, it all green though\n",
            "I was countin' that and these all twenties, that's a G-roll\n",
            "\n",
            "[bridge]\n",
            "She say, \"You're the worst, you're the worst\"\n",
            "I cannot die because this my universe\n",
            "[chorus]\n",
            "I don't really care if you cry\n",
            "On the real, you shoulda never lied\n",
            "Shoulda saw the way she looked me in my eyes\n",
            "She said, \"Baby, I am not afraid to die\"\n",
            "Push me to the edge\n",
            "All my friends are dead\n",
            "Push me to the edge\n",
            "All my friends are dead\n",
            "Push me to the edge\n",
            "All my friends are dead\n",
            "Push me to the edge\n"
          ]
        }
      ],
      "source": [
        "# print(mapped_dataset)\n",
        "print(dataset['train'][1000]['lyrics'])\n",
        "print(\"----------------\")\n",
        "print(mapped_dataset['train'][1000]['lyrics'])"
      ]
    },
    {
      "cell_type": "code",
      "execution_count": 8,
      "metadata": {
        "id": "qZ8TntEb0z6w"
      },
      "outputs": [],
      "source": [
        "allowed_parts = ['verse','break','chorus','intro', 'interlude', 'bridge', 'outro']\n",
        "def contains_one_of(allowed_parts,part:str):\n",
        "    for p in allowed_parts:\n",
        "        if p in part.lower(): return True\n",
        "    return False\n",
        "filtered_parts = np.unique([part for part in parts if contains_one_of(allowed_parts,part)])"
      ]
    },
    {
      "cell_type": "code",
      "execution_count": 9,
      "metadata": {
        "id": "WlibraEy0z6x",
        "colab": {
          "base_uri": "https://localhost:8080/"
        },
        "outputId": "26b82540-2ed6-4ca9-ff02-8b38b9bf664e"
      },
      "outputs": [
        {
          "data": {
            "text/plain": [
              "['[break]',\n",
              " '[bridge]',\n",
              " '[chorus]',\n",
              " '[interlude]',\n",
              " '[intro]',\n",
              " '[outro]',\n",
              " '[verse]']"
            ]
          },
          "execution_count": 9,
          "metadata": {},
          "output_type": "execute_result"
        }
      ],
      "source": [
        "sorted(filtered_parts)"
      ]
    },
    {
      "cell_type": "markdown",
      "metadata": {
        "id": "0l5qxsvg0z6x"
      },
      "source": [
        "# Preprocessing"
      ]
    },
    {
      "cell_type": "code",
      "execution_count": 10,
      "metadata": {
        "id": "SCPutyUP0z6y"
      },
      "outputs": [],
      "source": [
        "def plot_dist(dataset):\n",
        "    counts = {}\n",
        "    for example in dataset:\n",
        "        if example['artist'] not in counts.keys():\n",
        "            counts[example['artist']] = 0\n",
        "        else:\n",
        "            counts[example['artist']] += 1\n",
        "    plt.bar(counts.keys(), counts.values())"
      ]
    },
    {
      "cell_type": "markdown",
      "metadata": {
        "id": "6ZNgHYpY0z6y"
      },
      "source": [
        "## Train Test Val Split"
      ]
    },
    {
      "cell_type": "code",
      "execution_count": 11,
      "metadata": {
        "id": "iAyWIEyd0z6z",
        "colab": {
          "base_uri": "https://localhost:8080/"
        },
        "outputId": "ae023e3a-3f72-4c68-d6de-c3f1a1a2bc41"
      },
      "outputs": [
        {
          "data": {
            "text/plain": [
              "DatasetDict({\n",
              "    train: Dataset({\n",
              "        features: ['artist', 'lyrics'],\n",
              "        num_rows: 5029\n",
              "    })\n",
              "    test: Dataset({\n",
              "        features: ['artist', 'lyrics'],\n",
              "        num_rows: 1510\n",
              "    })\n",
              "    val: Dataset({\n",
              "        features: ['artist', 'lyrics'],\n",
              "        num_rows: 646\n",
              "    })\n",
              "})"
            ]
          },
          "execution_count": 11,
          "metadata": {},
          "output_type": "execute_result"
        }
      ],
      "source": [
        "from datasets import DatasetDict\n",
        "tts_mapped_dataset = mapped_dataset['train'].train_test_split(train_size=0.7)\n",
        "mapped_dataset_valid = tts_mapped_dataset['test'].train_test_split(train_size=0.3)\n",
        "\n",
        "train_test_val_dataset = DatasetDict({\n",
        "    'train': tts_mapped_dataset['train'],\n",
        "    'test':mapped_dataset_valid['test'],\n",
        "    'val': mapped_dataset_valid['train']\n",
        "    \n",
        "})\n",
        "\n",
        "train_test_val_dataset"
      ]
    },
    {
      "cell_type": "code",
      "execution_count": 12,
      "metadata": {
        "id": "ESgxEfjW0z6z",
        "colab": {
          "base_uri": "https://localhost:8080/",
          "height": 404
        },
        "outputId": "dd98a4d2-16a6-41ca-97f4-c6d3dfdee3f5"
      },
      "outputs": [
        {
          "data": {
            "image/png": "[encoded data removed]",
            "text/plain": [
              "<Figure size 648x432 with 1 Axes>"
            ]
          },
          "metadata": {},
          "output_type": "display_data"
        }
      ],
      "source": [
        "plt.figure(figsize=(9,6))\n",
        "plt.title(\"Train-Test-Valudation barplot\")\n",
        "plt.ylabel(\"count\")\n",
        "plt.xlabel(\"artist\")\n",
        "plot_dist(train_test_val_dataset['train'])\n",
        "plot_dist(train_test_val_dataset['test'])\n",
        "plot_dist(train_test_val_dataset['val'])\n",
        "plt.legend(['train', 'test', 'val'])\n",
        "plt.show()"
      ]
    },
    {
      "cell_type": "markdown",
      "metadata": {
        "id": "FtD3Crz30z60"
      },
      "source": [
        "## Machine Learning"
      ]
    },
    {
      "cell_type": "code",
      "execution_count": 13,
      "metadata": {
        "id": "CwN9Em-70z60",
        "colab": {
          "base_uri": "https://localhost:8080/",
          "height": 184,
          "referenced_widgets": [
            "51f37ef7bf894b008ac711fceb50dcfa",
            "2709f082d55d49edac6f39f729dce940",
            "0d5df14f373849acbc93fb7ed912f524",
            "cdbe8b28a4f14112896e913d8a237698",
            "f3a0c3e6d9e24f00bb64739a86dabb35"
          ]
        },
        "outputId": "a4214d4e-7344-42a6-8b58-af9e2f6b8581"
      },
      "outputs": [
        {
          "data": {
            "application/vnd.jupyter.widget-view+json": {
              "model_id": "51f37ef7bf894b008ac711fceb50dcfa",
              "version_major": 2,
              "version_minor": 0
            },
            "text/plain": [
              "Downloading (…)okenizer_config.json:   0%|          | 0.00/28.0 [00:00<?, ?B/s]"
            ]
          },
          "metadata": {},
          "output_type": "display_data"
        },
        {
          "data": {
            "application/vnd.jupyter.widget-view+json": {
              "model_id": "2709f082d55d49edac6f39f729dce940",
              "version_major": 2,
              "version_minor": 0
            },
            "text/plain": [
              "Downloading (…)lve/main/config.json:   0%|          | 0.00/570 [00:00<?, ?B/s]"
            ]
          },
          "metadata": {},
          "output_type": "display_data"
        },
        {
          "data": {
            "application/vnd.jupyter.widget-view+json": {
              "model_id": "0d5df14f373849acbc93fb7ed912f524",
              "version_major": 2,
              "version_minor": 0
            },
            "text/plain": [
              "Downloading (…)solve/main/vocab.txt:   0%|          | 0.00/232k [00:00<?, ?B/s]"
            ]
          },
          "metadata": {},
          "output_type": "display_data"
        },
        {
          "data": {
            "application/vnd.jupyter.widget-view+json": {
              "model_id": "cdbe8b28a4f14112896e913d8a237698",
              "version_major": 2,
              "version_minor": 0
            },
            "text/plain": [
              "Downloading (…)/main/tokenizer.json:   0%|          | 0.00/466k [00:00<?, ?B/s]"
            ]
          },
          "metadata": {},
          "output_type": "display_data"
        },
        {
          "data": {
            "application/vnd.jupyter.widget-view+json": {
              "model_id": "f3a0c3e6d9e24f00bb64739a86dabb35",
              "version_major": 2,
              "version_minor": 0
            },
            "text/plain": [
              "Downloading pytorch_model.bin:   0%|          | 0.00/440M [00:00<?, ?B/s]"
            ]
          },
          "metadata": {},
          "output_type": "display_data"
        },
        {
          "metadata": {
            "tags": null
          },
          "name": "stderr",
          "output_type": "stream",
          "text": [
            "Some weights of the model checkpoint at bert-base-uncased were not used when initializing BertModel: ['cls.predictions.bias', 'cls.seq_relationship.bias', 'cls.seq_relationship.weight', 'cls.predictions.transform.dense.weight', 'cls.predictions.transform.LayerNorm.weight', 'cls.predictions.transform.LayerNorm.bias', 'cls.predictions.transform.dense.bias', 'cls.predictions.decoder.weight']\n",
            "- This IS expected if you are initializing BertModel from the checkpoint of a model trained on another task or with another architecture (e.g. initializing a BertForSequenceClassification model from a BertForPreTraining model).\n",
            "- This IS NOT expected if you are initializing BertModel from the checkpoint of a model that you expect to be exactly identical (initializing a BertForSequenceClassification model from a BertForSequenceClassification model).\n"
          ]
        }
      ],
      "source": [
        "from transformers import AutoModel, AutoTokenizer\n",
        "\n",
        "# Language Model and Tokenizer Declaration:\n",
        "\n",
        "modelckpt=\"bert-base-uncased\"\n",
        "tokenizer = AutoTokenizer.from_pretrained(modelckpt)\n",
        "model = AutoModel.from_pretrained(modelckpt)\n"
      ]
    },
    {
      "cell_type": "code",
      "execution_count": 14,
      "metadata": {
        "id": "6a8rkr4U0z60",
        "colab": {
          "base_uri": "https://localhost:8080/",
          "height": 72,
          "referenced_widgets": [
            "4daa77c6964c40bcbb96236cb2493a96",
            "5437ffd1e7f74dcfba6686f4f004b49b",
            "2262fbb93a44481b9bdf57732b06d2c4"
          ]
        },
        "outputId": "e298bca5-dfaa-4089-e721-3c7c113d8a74"
      },
      "outputs": [
        {
          "data": {
            "application/vnd.jupyter.widget-view+json": {
              "model_id": "4daa77c6964c40bcbb96236cb2493a96",
              "version_major": 2,
              "version_minor": 0
            },
            "text/plain": [
              "Map:   0%|          | 0/5029 [00:00<?, ? examples/s]"
            ]
          },
          "metadata": {},
          "output_type": "display_data"
        },
        {
          "data": {
            "application/vnd.jupyter.widget-view+json": {
              "model_id": "5437ffd1e7f74dcfba6686f4f004b49b",
              "version_major": 2,
              "version_minor": 0
            },
            "text/plain": [
              "Map:   0%|          | 0/1510 [00:00<?, ? examples/s]"
            ]
          },
          "metadata": {},
          "output_type": "display_data"
        },
        {
          "data": {
            "application/vnd.jupyter.widget-view+json": {
              "model_id": "2262fbb93a44481b9bdf57732b06d2c4",
              "version_major": 2,
              "version_minor": 0
            },
            "text/plain": [
              "Map:   0%|          | 0/646 [00:00<?, ? examples/s]"
            ]
          },
          "metadata": {},
          "output_type": "display_data"
        }
      ],
      "source": [
        "# Tokenize\n",
        "def prepare_train_features(examples):\n",
        "    tokenized_examples = tokenizer(\n",
        "        examples['lyrics'],\n",
        "        truncation=True,\n",
        "        padding=True,\n",
        "        max_length=512\n",
        "        )\n",
        "    tokenized_examples['labels'] = examples['artist']\n",
        "    return tokenized_examples\n",
        "\n",
        "train_features = train_test_val_dataset['train'].map(prepare_train_features, batched=True, remove_columns=train_test_val_dataset[\"train\"].column_names).with_format('torch')\n",
        "test_features = train_test_val_dataset['test'].map(prepare_train_features, batched=True, remove_columns=train_test_val_dataset[\"test\"].column_names).with_format('torch')\n",
        "val_features = train_test_val_dataset['val'].map(prepare_train_features, batched=True, remove_columns=train_test_val_dataset[\"val\"].column_names).with_format('torch')"
      ]
    },
    {
      "cell_type": "code",
      "execution_count": 15,
      "metadata": {
        "id": "c0K6kpyG0z61",
        "colab": {
          "base_uri": "https://localhost:8080/"
        },
        "outputId": "d487be1b-b244-484e-d07b-75817d34a2d9"
      },
      "outputs": [
        {
          "metadata": {
            "tags": null
          },
          "name": "stdout",
          "output_type": "stream",
          "text": [
            "Looking in indexes: https://pypi.org/simple, https://us-python.pkg.dev/colab-wheels/public/simple/\n",
            "Requirement already satisfied: pytorch_metric_learning in /usr/local/lib/python3.9/dist-packages (2.0.1)\n",
            "Requirement already satisfied: scikit-learn in /usr/local/lib/python3.9/dist-packages (from pytorch_metric_learning) (1.2.1)\n",
            "Requirement already satisfied: numpy in /usr/local/lib/python3.9/dist-packages (from pytorch_metric_learning) (1.22.4)\n",
            "Requirement already satisfied: torch>=1.6.0 in /usr/local/lib/python3.9/dist-packages (from pytorch_metric_learning) (1.13.1+cu116)\n",
            "Requirement already satisfied: tqdm in /usr/local/lib/python3.9/dist-packages (from pytorch_metric_learning) (4.65.0)\n",
            "Requirement already satisfied: typing-extensions in /usr/local/lib/python3.9/dist-packages (from torch>=1.6.0->pytorch_metric_learning) (4.5.0)\n",
            "Requirement already satisfied: scipy>=1.3.2 in /usr/local/lib/python3.9/dist-packages (from scikit-learn->pytorch_metric_learning) (1.10.1)\n",
            "Requirement already satisfied: threadpoolctl>=2.0.0 in /usr/local/lib/python3.9/dist-packages (from scikit-learn->pytorch_metric_learning) (3.1.0)\n",
            "Requirement already satisfied: joblib>=1.1.1 in /usr/local/lib/python3.9/dist-packages (from scikit-learn->pytorch_metric_learning) (1.2.0)\n"
          ]
        }
      ],
      "source": [
        "! pip install pytorch_metric_learning\n",
        "from pytorch_metric_learning import distances, losses, miners, reducers, testers\n"
      ]
    },
    {
      "cell_type": "code",
      "execution_count": 16,
      "metadata": {
        "id": "zW0ULHTf0z61"
      },
      "outputs": [],
      "source": [
        "# # This was made by ChatGPT, keep an eye for possible bugs\n",
        "\n",
        "# import torch\n",
        "# import transformers\n",
        "# from torch.utils.data import DataLoader\n",
        "# from torch.utils.data import Dataset\n",
        "# from transformers import AdamW\n",
        "# from transformers import get_linear_schedule_with_warmup\n",
        "# from transformers import AutoTokenizer, AutoModel,AutoConfig\n",
        "\n",
        "# # Define your dataset and data loader\n",
        "# class SimpleDataset(Dataset):\n",
        "#     def __init__(self, data, tokenizer):\n",
        "#         self.data = data\n",
        "#         self.tokenizer = tokenizer\n",
        "\n",
        "#     def __getitem__(self, index):\n",
        "#         item = {key: torch.tensor(val[index]) for key, val in self.data.items()}\n",
        "#         return item\n",
        "\n",
        "#     def __len__(self):\n",
        "#         return len(self.data['input_ids'])\n",
        "\n",
        "# # Define your triplet loss function\n",
        "# class TripletLoss(torch.nn.Module):\n",
        "#     def __init__(self, margin=1.0):\n",
        "#         super(TripletLoss, self).__init__()\n",
        "#         self.margin = margin\n",
        "\n",
        "#     def forward(self, anchor, positive, negative):\n",
        "#         dist_pos = torch.norm(anchor - positive, p=2, dim=1)\n",
        "#         dist_neg = torch.norm(anchor - negative, p=2, dim=1)\n",
        "#         loss = torch.mean(torch.relu(dist_pos - dist_neg + self.margin))\n",
        "#         return loss\n",
        "    \n",
        "# # Define your model\n",
        "# class TransformerModel(torch.nn.Module):\n",
        "#     def __init__(self, model_name):\n",
        "#         super(TransformerModel, self).__init__()\n",
        "#         self.transformer = AutoModel.from_pretrained(model_name)\n",
        "#         self.dense_layer = torch.nn.Linear(self.transformer.config.hidden_size, self.transformer.config.hidden_size)\n",
        "\n",
        "#     def forward(self, input_ids, attention_mask):\n",
        "#         outputs = self.transformer(input_ids, attention_mask)\n",
        "#         pooled_output = outputs[1]\n",
        "#         embeddings = self.dense_layer(pooled_output)\n",
        "#         return embeddings\n",
        "\n",
        "\n",
        "\n",
        "# # Load your pre-trained model and define your model\n",
        "# model_name = 'bert-base-uncased'\n",
        "# tokenizer = AutoTokenizer.from_pretrained(model_name)\n",
        "# model = TransformerModel(model_name)\n",
        "\n",
        "# # # Freeze all the parameters in the pre-trained model\n",
        "# for param in model.parameters():\n",
        "#     param.requires_grad = False\n",
        "\n",
        "# Set the model to training mode\n",
        "\n"
      ]
    },
    {
      "cell_type": "code",
      "execution_count": 17,
      "metadata": {
        "id": "iCfJOBL00z62",
        "colab": {
          "base_uri": "https://localhost:8080/"
        },
        "outputId": "51a90df4-2e5d-4edd-fb47-7e5637c32a0e"
      },
      "outputs": [
        {
          "metadata": {
            "tags": null
          },
          "name": "stderr",
          "output_type": "stream",
          "text": [
            "Some weights of the model checkpoint at bert-base-uncased were not used when initializing BertModel: ['cls.predictions.bias', 'cls.seq_relationship.bias', 'cls.seq_relationship.weight', 'cls.predictions.transform.dense.weight', 'cls.predictions.transform.LayerNorm.weight', 'cls.predictions.transform.LayerNorm.bias', 'cls.predictions.transform.dense.bias', 'cls.predictions.decoder.weight']\n",
            "- This IS expected if you are initializing BertModel from the checkpoint of a model trained on another task or with another architecture (e.g. initializing a BertForSequenceClassification model from a BertForPreTraining model).\n",
            "- This IS NOT expected if you are initializing BertModel from the checkpoint of a model that you expect to be exactly identical (initializing a BertForSequenceClassification model from a BertForSequenceClassification model).\n",
            "/usr/local/lib/python3.9/dist-packages/transformers/optimization.py:306: FutureWarning: This implementation of AdamW is deprecated and will be removed in a future version. Use the PyTorch implementation torch.optim.AdamW instead, or set `no_deprecation_warning=True` to disable this warning\n",
            "  warnings.warn(\n"
          ]
        }
      ],
      "source": [
        "import torch\n",
        "from torch.utils.data import DataLoader\n",
        "from transformers import AdamW\n",
        "from transformers import get_linear_schedule_with_warmup\n",
        "\n",
        "device = 'cpu'\n",
        "if torch.cuda.is_available():\n",
        "    device='cuda'\n",
        "\n",
        "class TransformerModel(torch.nn.Module):\n",
        "    def __init__(self, model_name, embedding_dim=128):\n",
        "        super(TransformerModel, self).__init__()\n",
        "        self.transformer = AutoModel.from_pretrained(model_name)\n",
        "        self.dense_layer = torch.nn.Linear(self.transformer.config.hidden_size, embedding_dim)\n",
        "\n",
        "    def forward(self, input_ids, attention_mask):\n",
        "        outputs = self.transformer(input_ids, attention_mask)\n",
        "        pooled_output = outputs[\"pooler_output\"]\n",
        "        embeddings = self.dense_layer(pooled_output)\n",
        "        return embeddings\n",
        "\n",
        "model = TransformerModel(modelckpt)\n",
        "model = model.to(device)\n",
        "# # Freeze all the parameters in the pre-trained model\n",
        "# for param in model.parameters():\n",
        "#     param.requires_grad = False\n",
        "\n",
        "# Define training hyperparameters\n",
        "learning_rate = 2e-5\n",
        "epochs = 3\n",
        "batch_size = 32\n",
        "\n",
        "# Define your training data\n",
        "train_loader = DataLoader(train_features,batch_size=16, shuffle=True)\n",
        "test_loader = DataLoader(test_features,batch_size=16, shuffle=True)\n",
        "# Define your optimizer and learning rate scheduler\n",
        "optimizer = AdamW(model.parameters(), lr=learning_rate)\n",
        "total_steps = len(train_loader) * epochs\n",
        "scheduler = get_linear_schedule_with_warmup(optimizer, num_warmup_steps=0, num_training_steps=total_steps)\n",
        "\n",
        "\n",
        "def train(model, loss_func, mining_func, device, train_loader, optimizer, epoch):\n",
        "    model.train()\n",
        "    # Train your model\n",
        "    for batch_idx,batch in enumerate(train_loader):\n",
        "        # Extract the input ids and attention masks from the batch\n",
        "        input_ids = batch['input_ids'].to(device)\n",
        "        attention_mask = batch['attention_mask'].to(device)\n",
        "        labels = batch['labels'].to(device)\n",
        "        \n",
        "        # Encode the inputs using the pre-trained model\n",
        "        embeddings = model(input_ids=input_ids, attention_mask=attention_mask)\n",
        "        # print(embeddings)\n",
        "        indices_tuple = mining_func(embeddings, labels)\n",
        "        loss = loss_func(embeddings, labels, indices_tuple)\n",
        "        loss.backward()\n",
        "        optimizer.step()\n",
        "        if batch_idx % 20 == 0:\n",
        "            print(\n",
        "                \"Epoch {} Iteration {}:  Number of mined triplets = {}\".format(\n",
        "                    epoch, batch_idx, mining_func.num_triplets\n",
        "                )\n",
        "            )\n",
        "\n",
        "    # Print the loss every epoch\n",
        "    print('Epoch [{}/{}], Loss: {:.4f}'.format(epoch+1, epochs, loss.item()))"
      ]
    },
    {
      "cell_type": "code",
      "execution_count": 33,
      "metadata": {
        "id": "jrMS_2Jr0z62",
        "colab": {
          "base_uri": "https://localhost:8080/"
        },
        "outputId": "c050506b-de96-44d0-82ba-762d3e616694"
      },
      "outputs": [
        {
          "output_type": "stream",
          "name": "stdout",
          "text": [
            "Epoch 1 Iteration 0:  Number of mined triplets = 0\n",
            "Epoch 1 Iteration 20:  Number of mined triplets = 7\n",
            "Epoch 1 Iteration 40:  Number of mined triplets = 22\n",
            "Epoch 1 Iteration 60:  Number of mined triplets = 20\n",
            "Epoch 1 Iteration 80:  Number of mined triplets = 28\n",
            "Epoch 1 Iteration 100:  Number of mined triplets = 22\n",
            "Epoch 1 Iteration 120:  Number of mined triplets = 44\n",
            "Epoch 1 Iteration 140:  Number of mined triplets = 28\n",
            "Epoch 1 Iteration 160:  Number of mined triplets = 7\n",
            "Epoch 1 Iteration 180:  Number of mined triplets = 20\n",
            "Epoch 1 Iteration 200:  Number of mined triplets = 57\n",
            "Epoch 1 Iteration 220:  Number of mined triplets = 37\n",
            "Epoch 1 Iteration 240:  Number of mined triplets = 7\n",
            "Epoch 1 Iteration 260:  Number of mined triplets = 41\n",
            "Epoch 1 Iteration 280:  Number of mined triplets = 0\n",
            "Epoch 1 Iteration 300:  Number of mined triplets = 0\n",
            "Epoch [2/3], Loss: 0.0000\n",
            "Epoch 2 Iteration 0:  Number of mined triplets = 81\n",
            "Epoch 2 Iteration 20:  Number of mined triplets = 2\n",
            "Epoch 2 Iteration 40:  Number of mined triplets = 31\n",
            "Epoch 2 Iteration 60:  Number of mined triplets = 36\n",
            "Epoch 2 Iteration 80:  Number of mined triplets = 0\n",
            "Epoch 2 Iteration 100:  Number of mined triplets = 10\n",
            "Epoch 2 Iteration 120:  Number of mined triplets = 0\n",
            "Epoch 2 Iteration 140:  Number of mined triplets = 0\n",
            "Epoch 2 Iteration 160:  Number of mined triplets = 25\n",
            "Epoch 2 Iteration 180:  Number of mined triplets = 14\n",
            "Epoch 2 Iteration 200:  Number of mined triplets = 44\n",
            "Epoch 2 Iteration 220:  Number of mined triplets = 18\n",
            "Epoch 2 Iteration 240:  Number of mined triplets = 2\n",
            "Epoch 2 Iteration 260:  Number of mined triplets = 26\n",
            "Epoch 2 Iteration 280:  Number of mined triplets = 0\n",
            "Epoch 2 Iteration 300:  Number of mined triplets = 30\n",
            "Epoch [3/3], Loss: 0.0000\n"
          ]
        }
      ],
      "source": [
        "margin = 0.1\n",
        "loss_func = losses.TripletMarginLoss(margin=margin) # triplet loss with margin 0.1\n",
        "mining_func = miners.TripletMarginMiner(margin=margin, type_of_triplets=\"hard\") # use semihard mining\n",
        "\n",
        "num_epochs = 2 # train for 1 epoch\n",
        "\n",
        "for epoch in range(1, num_epochs + 1):\n",
        "    train(model, loss_func, mining_func, device, train_loader, optimizer, epoch)"
      ]
    },
    {
      "cell_type": "code",
      "source": [
        "from tqdm import tqdm\n",
        "def get_all_embeddings(dataloader, model):\n",
        "  model.eval()\n",
        "  embeddings, labels = [], []\n",
        "  with torch.no_grad():\n",
        "    for idx, batch in enumerate(tqdm(dataloader)):\n",
        "      input_ids, attention_mask, label = batch['input_ids'].to(device), batch['attention_mask'].to(device), batch['labels'].to(device)\n",
        "      embeddings.append(model(input_ids=input_ids, attention_mask=attention_mask))\n",
        "      labels.append(label)\n",
        "\n",
        "  return torch.vstack(embeddings), torch.cat(labels)"
      ],
      "metadata": {
        "id": "KrMnSU8NGQLr"
      },
      "execution_count": 34,
      "outputs": []
    },
    {
      "cell_type": "code",
      "source": [
        "embeddings, labels = get_all_embeddings(test_loader, model)"
      ],
      "metadata": {
        "id": "AGOpZEmcJl40",
        "colab": {
          "base_uri": "https://localhost:8080/"
        },
        "outputId": "dda17734-2f4f-48b9-e93c-021098090b66"
      },
      "execution_count": 35,
      "outputs": [
        {
          "output_type": "stream",
          "name": "stderr",
          "text": [
            "100%|██████████| 95/95 [00:45<00:00,  2.09it/s]\n"
          ]
        }
      ]
    },
    {
      "cell_type": "code",
      "source": [
        "!pip install umap-learn"
      ],
      "metadata": {
        "id": "CJulwW8_EnNl",
        "colab": {
          "base_uri": "https://localhost:8080/"
        },
        "outputId": "a7c6eb13-b524-42ac-ed50-d25e987eac17"
      },
      "execution_count": 20,
      "outputs": [
        {
          "output_type": "stream",
          "name": "stdout",
          "text": [
            "Looking in indexes: https://pypi.org/simple, https://us-python.pkg.dev/colab-wheels/public/simple/\n",
            "Collecting umap-learn\n",
            "  Downloading umap-learn-0.5.3.tar.gz (88 kB)\n",
            "\u001b[2K     \u001b[90m━━━━━━━━━━━━━━━━━━━━━━━━━━━━━━━━━━━━━━━━\u001b[0m \u001b[32m88.2/88.2 KB\u001b[0m \u001b[31m7.8 MB/s\u001b[0m eta \u001b[36m0:00:00\u001b[0m\n",
            "\u001b[?25h  Preparing metadata (setup.py) ... \u001b[?25l\u001b[?25hdone\n",
            "Requirement already satisfied: numpy>=1.17 in /usr/local/lib/python3.9/dist-packages (from umap-learn) (1.22.4)\n",
            "Requirement already satisfied: scikit-learn>=0.22 in /usr/local/lib/python3.9/dist-packages (from umap-learn) (1.2.1)\n",
            "Requirement already satisfied: scipy>=1.0 in /usr/local/lib/python3.9/dist-packages (from umap-learn) (1.10.1)\n",
            "Requirement already satisfied: numba>=0.49 in /usr/local/lib/python3.9/dist-packages (from umap-learn) (0.56.4)\n",
            "Collecting pynndescent>=0.5\n",
            "  Downloading pynndescent-0.5.8.tar.gz (1.1 MB)\n",
            "\u001b[2K     \u001b[90m━━━━━━━━━━━━━━━━━━━━━━━━━━━━━━━━━━━━━━━━\u001b[0m \u001b[32m1.1/1.1 MB\u001b[0m \u001b[31m42.7 MB/s\u001b[0m eta \u001b[36m0:00:00\u001b[0m\n",
            "\u001b[?25h  Preparing metadata (setup.py) ... \u001b[?25l\u001b[?25hdone\n",
            "Requirement already satisfied: tqdm in /usr/local/lib/python3.9/dist-packages (from umap-learn) (4.65.0)\n",
            "Requirement already satisfied: setuptools in /usr/local/lib/python3.9/dist-packages (from numba>=0.49->umap-learn) (57.4.0)\n",
            "Requirement already satisfied: llvmlite<0.40,>=0.39.0dev0 in /usr/local/lib/python3.9/dist-packages (from numba>=0.49->umap-learn) (0.39.1)\n",
            "Requirement already satisfied: joblib>=0.11 in /usr/local/lib/python3.9/dist-packages (from pynndescent>=0.5->umap-learn) (1.2.0)\n",
            "Requirement already satisfied: threadpoolctl>=2.0.0 in /usr/local/lib/python3.9/dist-packages (from scikit-learn>=0.22->umap-learn) (3.1.0)\n",
            "Building wheels for collected packages: umap-learn, pynndescent\n",
            "  Building wheel for umap-learn (setup.py) ... \u001b[?25l\u001b[?25hdone\n",
            "  Created wheel for umap-learn: filename=umap_learn-0.5.3-py3-none-any.whl size=82829 sha256=d686e47f0ea92d08a6ca9ae8def33fe4f93dc8c17f903d2903fc8ec2b061300e\n",
            "  Stored in directory: /root/.cache/pip/wheels/f4/3e/1c/596d0a463d17475af648688443fa4846fef624d1390339e7e9\n",
            "  Building wheel for pynndescent (setup.py) ... \u001b[?25l\u001b[?25hdone\n",
            "  Created wheel for pynndescent: filename=pynndescent-0.5.8-py3-none-any.whl size=55513 sha256=78306db8dacc9e0c226dbab023904595e0b27e8afd4922e8e86ca55ff9bab805\n",
            "  Stored in directory: /root/.cache/pip/wheels/b9/89/cc/59ab91ef5b21dc2ab3635528d7d227f49dfc9169905dcb959d\n",
            "Successfully built umap-learn pynndescent\n",
            "Installing collected packages: pynndescent, umap-learn\n",
            "Successfully installed pynndescent-0.5.8 umap-learn-0.5.3\n"
          ]
        }
      ]
    },
    {
      "cell_type": "code",
      "source": [
        "import umap\n",
        "from pytorch_metric_learning import testers\n",
        "\n",
        "umap_visualizer = umap.UMAP()\n",
        "# embeddings, labels = testers.BaseTester().get_all_embeddings(test_features, model)\n",
        "embeddings_reduced = umap_visualizer.fit_transform(embeddings.cpu().numpy())"
      ],
      "metadata": {
        "id": "4dXwcBP-Eu0X"
      },
      "execution_count": 36,
      "outputs": []
    },
    {
      "cell_type": "code",
      "source": [
        "from cycler import cycler\n",
        "\n",
        "def visualize_embeddings(embeddings, labels):\n",
        "  label_set = np.unique(labels)\n",
        "  num_classes = len(label_set)\n",
        "  plt.figure(figsize=(20,15))\n",
        "  plt.gca().set_prop_cycle(\n",
        "      cycler(\n",
        "          \"color\", [plt.cm.nipy_spectral(i) for i in np.linspace(0,0.9, num_classes)]\n",
        "      )\n",
        "  )\n",
        "\n",
        "  for i in range(num_classes):\n",
        "    idx = (labels==label_set[i])\n",
        "    plt.plot(embeddings[idx,0], embeddings[idx,1], \".\", markersize=10, label=i)\n",
        "  #plt.legend(loc=\"best\", markerscale=10)\n",
        "  plt.show()"
      ],
      "metadata": {
        "id": "p_M2Oit5dwZA"
      },
      "execution_count": 37,
      "outputs": []
    },
    {
      "cell_type": "code",
      "source": [
        "visualize_embeddings(embeddings_reduced, labels.cpu().numpy())"
      ],
      "metadata": {
        "colab": {
          "base_uri": "https://localhost:8080/",
          "height": 863
        },
        "id": "VFncQJcWe-mv",
        "outputId": "4ee9136d-f4c3-4cd0-a6c2-971897930a42"
      },
      "execution_count": 38,
      "outputs": [
        {
          "output_type": "display_data",
          "data": {
            "text/plain": [
              "<Figure size 1440x1080 with 1 Axes>"
            ],
            "image/png": "[encoded data removed]"
          },
          "metadata": {
            "needs_background": "light"
          }
        }
      ]
    }
  ],
  "metadata": {
    "kernelspec": {
      "display_name": "ML_venv",
      "language": "python",
      "name": "python3"
    },
    "language_info": {
      "codemirror_mode": {
        "name": "ipython",
        "version": 3
      },
      "file_extension": ".py",
      "mimetype": "text/x-python",
      "name": "python",
      "nbconvert_exporter": "python",
      "pygments_lexer": "ipython3",
      "version": "3.10.2"
    },
    "orig_nbformat": 4,
    "vscode": {
      "interpreter": {
        "hash": "7486034c368b724a4f5b8fe7b1c697f01f7a86a113524f74e082ec2feaceabdc"
      }
    },
    "colab": {
      "provenance": []
    },
    "accelerator": "GPU",
    "gpuClass": "standard",
    "widgets": {
      "application/vnd.jupyter.widget-state+json": {}
    }
  },
  "nbformat": 4,
  "nbformat_minor": 0
}