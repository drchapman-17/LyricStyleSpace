{
  "cells": [
    {
      "cell_type": "markdown",
      "metadata": {
        "id": "pD0cohjc0z6i"
      },
      "source": [
        "### Run only on Colab"
      ]
    },
    {
      "cell_type": "code",
      "execution_count": null,
      "metadata": {
        "id": "Ou3V87hT0z6o"
      },
      "outputs": [],
      "source": [
        "! pip install transformers datasets pytorch_metric_learning faiss-gpu"
      ]
    },
    {
      "cell_type": "code",
      "execution_count": null,
      "metadata": {
        "id": "boU07c5g0z6q"
      },
      "outputs": [],
      "source": [
        "! wget https://raw.githubusercontent.com/drchapman-17/LyricStyleSpace/main/data.json"
      ]
    },
    {
      "cell_type": "markdown",
      "metadata": {
        "id": "nnSYJG3o0z6q"
      },
      "source": [
        "## Preliminary Steps"
      ]
    },
    {
      "cell_type": "code",
      "execution_count": null,
      "metadata": {
        "id": "luNBiqxW0z6r"
      },
      "outputs": [],
      "source": [
        "from datasets import load_dataset\n",
        "import numpy as np\n",
        "import re\n",
        "from matplotlib import pyplot as plt\n",
        "\n",
        "\n",
        "\n",
        "dataset = load_dataset('json',data_files='data.json').class_encode_column('artist')\n",
        "artists_mappings = dataset['train'].features['artist'].names"
      ]
    },
    {
      "cell_type": "code",
      "execution_count": null,
      "metadata": {
        "id": "F23K7n3r0z6t"
      },
      "outputs": [],
      "source": [
        "def clean(example):\n",
        "    allowed_parts = ['verse','break','chorus','intro', 'interlude', 'bridge', 'outro']\n",
        "    for part in allowed_parts:\n",
        "        example['lyrics']=re.sub(\"\\[.*\"+part+\".*\\]\", f\"[{part}]\", example['lyrics'], flags=re.IGNORECASE)\n",
        "    example['lyrics']=re.sub(\"\\[(?!\"+\"|\".join(allowed_parts)+\").*?\\]\", \"\", example['lyrics'], flags=re.DOTALL)\n",
        "    example['lyrics']=re.sub(\"[0-9]+embed\", \"\", example['lyrics'], flags=re.IGNORECASE)\n",
        "    return example\n",
        "\n",
        "mapped_dataset = dataset.map(clean)\n"
      ]
    },
    {
      "cell_type": "code",
      "execution_count": null,
      "metadata": {
        "id": "hURNE0Bn0z6t"
      },
      "outputs": [],
      "source": [
        "def list_song_parts(example):\n",
        "    parts = re.findall(r'\\[[^\\[\\]]+\\]',example['lyrics']) # Capture everything enclosed in square brackets\n",
        "    for i,part in enumerate(parts): \n",
        "        parts[i] = re.sub(r':.*(?=\\])','',part) # Remove everything from : to the closing bracket ] (Most lyrics contain the name of the singer of these parts e.g. [Chorus: 2 Chainz])\n",
        "    return {'parts': parts}\n",
        "parts = mapped_dataset['train'].map(list_song_parts,remove_columns=dataset['train'].column_names)\n",
        "\n",
        "parts:np.ndarray = np.unique([el for l in parts['parts'] for el in l ])"
      ]
    },
    {
      "cell_type": "code",
      "execution_count": null,
      "metadata": {
        "id": "mrI68AEO0z6u"
      },
      "outputs": [],
      "source": [
        "print(*parts)"
      ]
    },
    {
      "cell_type": "code",
      "execution_count": null,
      "metadata": {
        "id": "kclWEHOD0z6v"
      },
      "outputs": [],
      "source": [
        "# print(mapped_dataset)\n",
        "print(dataset['train'][1000]['lyrics'])\n",
        "print(\"----------------\")\n",
        "print(mapped_dataset['train'][1000]['lyrics'])"
      ]
    },
    {
      "cell_type": "code",
      "execution_count": null,
      "metadata": {
        "id": "qZ8TntEb0z6w"
      },
      "outputs": [],
      "source": [
        "allowed_parts = ['verse','break','chorus','intro', 'interlude', 'bridge', 'outro']\n",
        "def contains_one_of(allowed_parts,part:str):\n",
        "    for p in allowed_parts:\n",
        "        if p in part.lower(): return True\n",
        "    return False\n",
        "filtered_parts = np.unique([part for part in parts if contains_one_of(allowed_parts,part)])"
      ]
    },
    {
      "cell_type": "code",
      "execution_count": null,
      "metadata": {
        "id": "WlibraEy0z6x"
      },
      "outputs": [],
      "source": [
        "sorted(filtered_parts)"
      ]
    },
    {
      "cell_type": "markdown",
      "metadata": {
        "id": "0l5qxsvg0z6x"
      },
      "source": [
        "# Preprocessing"
      ]
    },
    {
      "cell_type": "code",
      "execution_count": null,
      "metadata": {
        "id": "SCPutyUP0z6y"
      },
      "outputs": [],
      "source": [
        "def plot_dist(dataset):\n",
        "    counts = {}\n",
        "    for example in dataset:\n",
        "        if example['artist'] not in counts.keys():\n",
        "            counts[example['artist']] = 0\n",
        "        else:\n",
        "            counts[example['artist']] += 1\n",
        "    plt.bar(counts.keys(), counts.values())"
      ]
    },
    {
      "cell_type": "markdown",
      "metadata": {
        "id": "6ZNgHYpY0z6y"
      },
      "source": [
        "## Train Test Val Split"
      ]
    },
    {
      "cell_type": "code",
      "execution_count": null,
      "metadata": {
        "id": "iAyWIEyd0z6z"
      },
      "outputs": [],
      "source": [
        "from datasets import DatasetDict\n",
        "tts_mapped_dataset = mapped_dataset['train'].train_test_split(train_size=0.7)\n",
        "mapped_dataset_valid = tts_mapped_dataset['test'].train_test_split(train_size=0.3)\n",
        "\n",
        "train_test_val_dataset = DatasetDict({\n",
        "    'train': tts_mapped_dataset['train'],\n",
        "    'test':mapped_dataset_valid['test'],\n",
        "    'val': mapped_dataset_valid['train']\n",
        "    \n",
        "})\n",
        "\n",
        "train_test_val_dataset"
      ]
    },
    {
      "cell_type": "code",
      "execution_count": null,
      "metadata": {
        "id": "ESgxEfjW0z6z"
      },
      "outputs": [],
      "source": [
        "plt.figure(figsize=(9,6))\n",
        "plt.title(\"Train-Test-Valudation barplot\")\n",
        "plt.ylabel(\"count\")\n",
        "plt.xlabel(\"artist\")\n",
        "plot_dist(train_test_val_dataset['train'])\n",
        "plot_dist(train_test_val_dataset['test'])\n",
        "plot_dist(train_test_val_dataset['val'])\n",
        "plt.legend(['train', 'test', 'val'])\n",
        "plt.show()"
      ]
    },
    {
      "cell_type": "markdown",
      "metadata": {
        "id": "FtD3Crz30z60"
      },
      "source": [
        "## Machine Learning"
      ]
    },
    {
      "cell_type": "code",
      "execution_count": null,
      "metadata": {
        "id": "CwN9Em-70z60"
      },
      "outputs": [],
      "source": [
        "from transformers import AutoModel, AutoTokenizer\n",
        "\n",
        "# Language Model and Tokenizer Declaration:\n",
        "\n",
        "modelckpt=\"bert-base-uncased\"\n",
        "tokenizer = AutoTokenizer.from_pretrained(modelckpt)\n",
        "model = AutoModel.from_pretrained(modelckpt)\n"
      ]
    },
    {
      "cell_type": "code",
      "execution_count": null,
      "metadata": {
        "id": "6a8rkr4U0z60"
      },
      "outputs": [],
      "source": [
        "# Tokenize\n",
        "def prepare_train_features(examples):\n",
        "    tokenized_examples = tokenizer(\n",
        "        examples['lyrics'],\n",
        "        truncation=True,\n",
        "        padding=True,\n",
        "        max_length=512\n",
        "        )\n",
        "    tokenized_examples['labels'] = examples['artist']\n",
        "    return tokenized_examples\n",
        "\n",
        "train_features = train_test_val_dataset['train'].map(prepare_train_features, batched=True, remove_columns=train_test_val_dataset[\"train\"].column_names).with_format('torch')\n",
        "test_features = train_test_val_dataset['test'].map(prepare_train_features, batched=True, remove_columns=train_test_val_dataset[\"test\"].column_names).with_format('torch')\n",
        "val_features = train_test_val_dataset['val'].map(prepare_train_features, batched=True, remove_columns=train_test_val_dataset[\"val\"].column_names).with_format('torch')"
      ]
    },
    {
      "cell_type": "code",
      "execution_count": null,
      "metadata": {
        "id": "c0K6kpyG0z61"
      },
      "outputs": [],
      "source": [
        "! pip install pytorch_metric_learning\n",
        "from pytorch_metric_learning import distances, losses, miners, reducers, testers\n"
      ]
    },
    {
      "cell_type": "code",
      "execution_count": null,
      "metadata": {
        "id": "zW0ULHTf0z61"
      },
      "outputs": [],
      "source": [
        "# # This was made by ChatGPT, keep an eye for possible bugs\n",
        "\n",
        "# import torch\n",
        "# import transformers\n",
        "# from torch.utils.data import DataLoader\n",
        "# from torch.utils.data import Dataset\n",
        "# from transformers import AdamW\n",
        "# from transformers import get_linear_schedule_with_warmup\n",
        "# from transformers import AutoTokenizer, AutoModel,AutoConfig\n",
        "\n",
        "# # Define your dataset and data loader\n",
        "# class SimpleDataset(Dataset):\n",
        "#     def __init__(self, data, tokenizer):\n",
        "#         self.data = data\n",
        "#         self.tokenizer = tokenizer\n",
        "\n",
        "#     def __getitem__(self, index):\n",
        "#         item = {key: torch.tensor(val[index]) for key, val in self.data.items()}\n",
        "#         return item\n",
        "\n",
        "#     def __len__(self):\n",
        "#         return len(self.data['input_ids'])\n",
        "\n",
        "# # Define your triplet loss function\n",
        "# class TripletLoss(torch.nn.Module):\n",
        "#     def __init__(self, margin=1.0):\n",
        "#         super(TripletLoss, self).__init__()\n",
        "#         self.margin = margin\n",
        "\n",
        "#     def forward(self, anchor, positive, negative):\n",
        "#         dist_pos = torch.norm(anchor - positive, p=2, dim=1)\n",
        "#         dist_neg = torch.norm(anchor - negative, p=2, dim=1)\n",
        "#         loss = torch.mean(torch.relu(dist_pos - dist_neg + self.margin))\n",
        "#         return loss\n",
        "    \n",
        "# # Define your model\n",
        "# class TransformerModel(torch.nn.Module):\n",
        "#     def __init__(self, model_name):\n",
        "#         super(TransformerModel, self).__init__()\n",
        "#         self.transformer = AutoModel.from_pretrained(model_name)\n",
        "#         self.dense_layer = torch.nn.Linear(self.transformer.config.hidden_size, self.transformer.config.hidden_size)\n",
        "\n",
        "#     def forward(self, input_ids, attention_mask):\n",
        "#         outputs = self.transformer(input_ids, attention_mask)\n",
        "#         pooled_output = outputs[1]\n",
        "#         embeddings = self.dense_layer(pooled_output)\n",
        "#         return embeddings\n",
        "\n",
        "\n",
        "\n",
        "# # Load your pre-trained model and define your model\n",
        "# model_name = 'bert-base-uncased'\n",
        "# tokenizer = AutoTokenizer.from_pretrained(model_name)\n",
        "# model = TransformerModel(model_name)\n",
        "\n",
        "# # # Freeze all the parameters in the pre-trained model\n",
        "# for param in model.parameters():\n",
        "#     param.requires_grad = False\n",
        "\n",
        "# Set the model to training mode\n",
        "\n"
      ]
    },
    {
      "cell_type": "code",
      "execution_count": null,
      "metadata": {
        "id": "iCfJOBL00z62"
      },
      "outputs": [],
      "source": [
        "import torch\n",
        "from torch.utils.data import DataLoader\n",
        "from transformers import AdamW\n",
        "from transformers import get_linear_schedule_with_warmup\n",
        "\n",
        "device = 'cpu'\n",
        "if torch.cuda.is_available():\n",
        "    device='cuda'\n",
        "\n",
        "class TransformerModel(torch.nn.Module):\n",
        "    def __init__(self, model_name, embedding_dim=128):\n",
        "        super(TransformerModel, self).__init__()\n",
        "        self.transformer = AutoModel.from_pretrained(model_name)\n",
        "        self.dense_layer = torch.nn.Linear(self.transformer.config.hidden_size, embedding_dim)\n",
        "\n",
        "    def forward(self, input_ids, attention_mask):\n",
        "        outputs = self.transformer(input_ids, attention_mask)\n",
        "        pooled_output = outputs[\"pooler_output\"]\n",
        "        embeddings = self.dense_layer(pooled_output)\n",
        "        return embeddings\n",
        "\n",
        "model = TransformerModel(modelckpt)\n",
        "model = model.to(device)\n",
        "# # Freeze all the parameters in the pre-trained model\n",
        "# for param in model.parameters():\n",
        "#     param.requires_grad = False\n",
        "\n",
        "# Define training hyperparameters\n",
        "learning_rate = 2e-5\n",
        "epochs = 3\n",
        "batch_size = 32\n",
        "\n",
        "# Define your training data\n",
        "train_loader = DataLoader(train_features,batch_size=16, shuffle=True)\n",
        "test_loader = DataLoader(test_features,batch_size=16, shuffle=True)\n",
        "# Define your optimizer and learning rate scheduler\n",
        "optimizer = AdamW(model.parameters(), lr=learning_rate)\n",
        "total_steps = len(train_loader) * epochs\n",
        "scheduler = get_linear_schedule_with_warmup(optimizer, num_warmup_steps=0, num_training_steps=total_steps)\n",
        "\n",
        "\n",
        "def train(model, loss_func, mining_func, device, train_loader, optimizer, epoch):\n",
        "    model.train()\n",
        "    # Train your model\n",
        "    for batch_idx,batch in enumerate(train_loader):\n",
        "        # Extract the input ids and attention masks from the batch\n",
        "        input_ids = batch['input_ids'].to(device)\n",
        "        attention_mask = batch['attention_mask'].to(device)\n",
        "        labels = batch['labels'].to(device)\n",
        "        \n",
        "        # Encode the inputs using the pre-trained model\n",
        "        embeddings = model(input_ids=input_ids, attention_mask=attention_mask)\n",
        "        # print(embeddings)\n",
        "        indices_tuple = mining_func(embeddings, labels)\n",
        "        loss = loss_func(embeddings, labels, indices_tuple)\n",
        "        loss.backward()\n",
        "        optimizer.step()\n",
        "        if batch_idx % 20 == 0:\n",
        "            print(\n",
        "                \"Epoch {} Iteration {}:  Number of mined triplets = {}\".format(\n",
        "                    epoch, batch_idx, mining_func.num_triplets\n",
        "                )\n",
        "            )\n",
        "\n",
        "    # Print the loss every epoch\n",
        "    print('Epoch [{}/{}], Loss: {:.4f}'.format(epoch+1, epochs, loss.item()))"
      ]
    },
    {
      "cell_type": "code",
      "execution_count": null,
      "metadata": {
        "id": "jrMS_2Jr0z62"
      },
      "outputs": [],
      "source": [
        "margin = 0.1\n",
        "loss_func = losses.TripletMarginLoss(margin=margin) # triplet loss with margin 0.1\n",
        "mining_func = miners.TripletMarginMiner(margin=margin, type_of_triplets=\"hard\") # use semihard mining\n",
        "\n",
        "num_epochs = 2 # train for 1 epoch\n",
        "\n",
        "for epoch in range(1, num_epochs + 1):\n",
        "    train(model, loss_func, mining_func, device, train_loader, optimizer, epoch)"
      ]
    },
    {
      "cell_type": "code",
      "source": [
        "from tqdm import tqdm\n",
        "def get_all_embeddings(dataloader, model):\n",
        "  model.eval()\n",
        "  embeddings, labels = [], []\n",
        "  with torch.no_grad():\n",
        "    for idx, batch in enumerate(tqdm(dataloader)):\n",
        "      input_ids, attention_mask, label = batch['input_ids'].to(device), batch['attention_mask'].to(device), batch['labels'].to(device)\n",
        "      embeddings.append(model(input_ids=input_ids, attention_mask=attention_mask))\n",
        "      labels.append(label)\n",
        "\n",
        "  return torch.vstack(embeddings), torch.cat(labels)"
      ],
      "metadata": {
        "id": "KrMnSU8NGQLr"
      },
      "execution_count": null,
      "outputs": []
    },
    {
      "cell_type": "code",
      "source": [
        "embeddings, labels = get_all_embeddings(test_loader, model)"
      ],
      "metadata": {
        "id": "AGOpZEmcJl40"
      },
      "execution_count": null,
      "outputs": []
    },
    {
      "cell_type": "code",
      "source": [
        "labels = torch.cat(labels)"
      ],
      "metadata": {
        "id": "hljQGsChLR54"
      },
      "execution_count": null,
      "outputs": []
    },
    {
      "cell_type": "code",
      "source": [],
      "metadata": {
        "id": "BU5UV90uLt3f"
      },
      "execution_count": null,
      "outputs": []
    },
    {
      "cell_type": "code",
      "source": [
        "!pip install umap-learn"
      ],
      "metadata": {
        "id": "CJulwW8_EnNl"
      },
      "execution_count": null,
      "outputs": []
    },
    {
      "cell_type": "code",
      "source": [
        "import umap\n",
        "from pytorch_metric_learning import testers\n",
        "\n",
        "umap_visualizer = umap.UMAP()\n",
        "embeddings, labels = testers.BaseTester().get_all_embeddings(test_features, model)\n",
        "embeddings_rediced = umap_visualizer.fit_transform(embeddings.cpu().numpy())"
      ],
      "metadata": {
        "id": "4dXwcBP-Eu0X"
      },
      "execution_count": null,
      "outputs": []
    }
  ],
  "metadata": {
    "kernelspec": {
      "display_name": "ML_venv",
      "language": "python",
      "name": "python3"
    },
    "language_info": {
      "codemirror_mode": {
        "name": "ipython",
        "version": 3
      },
      "file_extension": ".py",
      "mimetype": "text/x-python",
      "name": "python",
      "nbconvert_exporter": "python",
      "pygments_lexer": "ipython3",
      "version": "3.10.2"
    },
    "orig_nbformat": 4,
    "vscode": {
      "interpreter": {
        "hash": "7486034c368b724a4f5b8fe7b1c697f01f7a86a113524f74e082ec2feaceabdc"
      }
    },
    "colab": {
      "provenance": []
    },
    "accelerator": "GPU",
    "gpuClass": "standard"
  },
  "nbformat": 4,
  "nbformat_minor": 0
}