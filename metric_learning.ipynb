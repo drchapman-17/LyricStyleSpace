{
  "cells": [
    {
      "cell_type": "markdown",
      "metadata": {
        "id": "pD0cohjc0z6i"
      },
      "source": [
        "### Run only on Colab"
      ]
    },
    {
      "cell_type": "code",
      "execution_count": 1,
      "metadata": {
        "id": "Ou3V87hT0z6o",
        "outputId": "8e930f28-9aa3-418f-ba86-da0cb16d7b85",
        "colab": {
          "base_uri": "https://localhost:8080/"
        }
      },
      "outputs": [
        {
          "output_type": "stream",
          "name": "stdout",
          "text": [
            "Looking in indexes: https://pypi.org/simple, https://us-python.pkg.dev/colab-wheels/public/simple/\n",
            "Requirement already satisfied: transformers in /usr/local/lib/python3.8/dist-packages (4.26.1)\n",
            "Requirement already satisfied: datasets in /usr/local/lib/python3.8/dist-packages (2.10.1)\n",
            "Requirement already satisfied: pytorch_metric_learning in /usr/local/lib/python3.8/dist-packages (2.0.1)\n",
            "Requirement already satisfied: faiss-gpu in /usr/local/lib/python3.8/dist-packages (1.7.2)\n",
            "Requirement already satisfied: huggingface-hub<1.0,>=0.11.0 in /usr/local/lib/python3.8/dist-packages (from transformers) (0.12.1)\n",
            "Requirement already satisfied: tqdm>=4.27 in /usr/local/lib/python3.8/dist-packages (from transformers) (4.64.1)\n",
            "Requirement already satisfied: filelock in /usr/local/lib/python3.8/dist-packages (from transformers) (3.9.0)\n",
            "Requirement already satisfied: requests in /usr/local/lib/python3.8/dist-packages (from transformers) (2.25.1)\n",
            "Requirement already satisfied: packaging>=20.0 in /usr/local/lib/python3.8/dist-packages (from transformers) (23.0)\n",
            "Requirement already satisfied: regex!=2019.12.17 in /usr/local/lib/python3.8/dist-packages (from transformers) (2022.6.2)\n",
            "Requirement already satisfied: tokenizers!=0.11.3,<0.14,>=0.11.1 in /usr/local/lib/python3.8/dist-packages (from transformers) (0.13.2)\n",
            "Requirement already satisfied: pyyaml>=5.1 in /usr/local/lib/python3.8/dist-packages (from transformers) (6.0)\n",
            "Requirement already satisfied: numpy>=1.17 in /usr/local/lib/python3.8/dist-packages (from transformers) (1.22.4)\n",
            "Requirement already satisfied: responses<0.19 in /usr/local/lib/python3.8/dist-packages (from datasets) (0.18.0)\n",
            "Requirement already satisfied: fsspec[http]>=2021.11.1 in /usr/local/lib/python3.8/dist-packages (from datasets) (2023.1.0)\n",
            "Requirement already satisfied: aiohttp in /usr/local/lib/python3.8/dist-packages (from datasets) (3.8.4)\n",
            "Requirement already satisfied: dill<0.3.7,>=0.3.0 in /usr/local/lib/python3.8/dist-packages (from datasets) (0.3.6)\n",
            "Requirement already satisfied: pyarrow>=6.0.0 in /usr/local/lib/python3.8/dist-packages (from datasets) (9.0.0)\n",
            "Requirement already satisfied: xxhash in /usr/local/lib/python3.8/dist-packages (from datasets) (3.2.0)\n",
            "Requirement already satisfied: multiprocess in /usr/local/lib/python3.8/dist-packages (from datasets) (0.70.14)\n",
            "Requirement already satisfied: pandas in /usr/local/lib/python3.8/dist-packages (from datasets) (1.3.5)\n",
            "Requirement already satisfied: scikit-learn in /usr/local/lib/python3.8/dist-packages (from pytorch_metric_learning) (1.2.1)\n",
            "Requirement already satisfied: torch>=1.6.0 in /usr/local/lib/python3.8/dist-packages (from pytorch_metric_learning) (1.13.1+cu116)\n",
            "Requirement already satisfied: frozenlist>=1.1.1 in /usr/local/lib/python3.8/dist-packages (from aiohttp->datasets) (1.3.3)\n",
            "Requirement already satisfied: yarl<2.0,>=1.0 in /usr/local/lib/python3.8/dist-packages (from aiohttp->datasets) (1.8.2)\n",
            "Requirement already satisfied: async-timeout<5.0,>=4.0.0a3 in /usr/local/lib/python3.8/dist-packages (from aiohttp->datasets) (4.0.2)\n",
            "Requirement already satisfied: charset-normalizer<4.0,>=2.0 in /usr/local/lib/python3.8/dist-packages (from aiohttp->datasets) (3.0.1)\n",
            "Requirement already satisfied: aiosignal>=1.1.2 in /usr/local/lib/python3.8/dist-packages (from aiohttp->datasets) (1.3.1)\n",
            "Requirement already satisfied: multidict<7.0,>=4.5 in /usr/local/lib/python3.8/dist-packages (from aiohttp->datasets) (6.0.4)\n",
            "Requirement already satisfied: attrs>=17.3.0 in /usr/local/lib/python3.8/dist-packages (from aiohttp->datasets) (22.2.0)\n",
            "Requirement already satisfied: typing-extensions>=3.7.4.3 in /usr/local/lib/python3.8/dist-packages (from huggingface-hub<1.0,>=0.11.0->transformers) (4.5.0)\n",
            "Requirement already satisfied: urllib3<1.27,>=1.21.1 in /usr/local/lib/python3.8/dist-packages (from requests->transformers) (1.26.14)\n",
            "Requirement already satisfied: idna<3,>=2.5 in /usr/local/lib/python3.8/dist-packages (from requests->transformers) (2.10)\n",
            "Requirement already satisfied: chardet<5,>=3.0.2 in /usr/local/lib/python3.8/dist-packages (from requests->transformers) (4.0.0)\n",
            "Requirement already satisfied: certifi>=2017.4.17 in /usr/local/lib/python3.8/dist-packages (from requests->transformers) (2022.12.7)\n",
            "Requirement already satisfied: python-dateutil>=2.7.3 in /usr/local/lib/python3.8/dist-packages (from pandas->datasets) (2.8.2)\n",
            "Requirement already satisfied: pytz>=2017.3 in /usr/local/lib/python3.8/dist-packages (from pandas->datasets) (2022.7.1)\n",
            "Requirement already satisfied: joblib>=1.1.1 in /usr/local/lib/python3.8/dist-packages (from scikit-learn->pytorch_metric_learning) (1.2.0)\n",
            "Requirement already satisfied: scipy>=1.3.2 in /usr/local/lib/python3.8/dist-packages (from scikit-learn->pytorch_metric_learning) (1.10.1)\n",
            "Requirement already satisfied: threadpoolctl>=2.0.0 in /usr/local/lib/python3.8/dist-packages (from scikit-learn->pytorch_metric_learning) (3.1.0)\n",
            "Requirement already satisfied: six>=1.5 in /usr/local/lib/python3.8/dist-packages (from python-dateutil>=2.7.3->pandas->datasets) (1.15.0)\n"
          ]
        }
      ],
      "source": [
        "! pip install transformers datasets pytorch_metric_learning faiss-gpu"
      ]
    },
    {
      "cell_type": "code",
      "execution_count": 2,
      "metadata": {
        "id": "boU07c5g0z6q",
        "outputId": "780285b3-e6c9-4220-c125-0afe4e5589a0",
        "colab": {
          "base_uri": "https://localhost:8080/"
        }
      },
      "outputs": [
        {
          "output_type": "stream",
          "name": "stdout",
          "text": [
            "--2023-03-07 16:25:48--  https://raw.githubusercontent.com/drchapman-17/LyricStyleSpace/main/data.json\n",
            "Resolving raw.githubusercontent.com (raw.githubusercontent.com)... 185.199.111.133, 185.199.108.133, 185.199.109.133, ...\n",
            "Connecting to raw.githubusercontent.com (raw.githubusercontent.com)|185.199.111.133|:443... connected.\n",
            "HTTP request sent, awaiting response... 200 OK\n",
            "Length: 21129622 (20M) [text/plain]\n",
            "Saving to: ‘data.json.4’\n",
            "\n",
            "\rdata.json.4           0%[                    ]       0  --.-KB/s               \rdata.json.4         100%[===================>]  20.15M  --.-KB/s    in 0.1s    \n",
            "\n",
            "2023-03-07 16:25:48 (185 MB/s) - ‘data.json.4’ saved [21129622/21129622]\n",
            "\n"
          ]
        }
      ],
      "source": [
        "! wget https://raw.githubusercontent.com/drchapman-17/LyricStyleSpace/main/data.json"
      ]
    },
    {
      "cell_type": "markdown",
      "metadata": {
        "id": "nnSYJG3o0z6q"
      },
      "source": [
        "## Preliminary Steps"
      ]
    },
    {
      "cell_type": "code",
      "execution_count": 3,
      "metadata": {
        "id": "luNBiqxW0z6r",
        "outputId": "63cf0e96-32fd-4fed-b3c9-0433aa28dc1a",
        "colab": {
          "base_uri": "https://localhost:8080/",
          "height": 106,
          "referenced_widgets": [
            "488b6231adc54975abf2441fb4bb60e4",
            "783968c96d7e4525aa057a8aecbb72c8",
            "b365bfa781ae42988ffc30a674889769",
            "de2d5bb39c2e4ff787d8d788d40458ba",
            "d5b8e24fb9b3479bb37fa417e0325e52",
            "42597efe200940528abc2dcf77f51848",
            "182369fc03c440ddacb121b07a0c9eea",
            "979174ac35044c07b91ddccee6d19d80",
            "cd4bf773110643c69b0ca4298440781d",
            "3eec44e4aa05499f8ddd6b114c8403f6",
            "9ecdddd192f74db3aad17c22a8a89835"
          ]
        }
      },
      "outputs": [
        {
          "output_type": "stream",
          "name": "stderr",
          "text": [
            "WARNING:datasets.builder:Found cached dataset json (/root/.cache/huggingface/datasets/json/default-bde9aad59e7b23ad/0.0.0/0f7e3662623656454fcd2b650f34e886a7db4b9104504885bd462096cc7a9f51)\n"
          ]
        },
        {
          "output_type": "display_data",
          "data": {
            "text/plain": [
              "  0%|          | 0/1 [00:00<?, ?it/s]"
            ],
            "application/vnd.jupyter.widget-view+json": {
              "version_major": 2,
              "version_minor": 0,
              "model_id": "488b6231adc54975abf2441fb4bb60e4"
            }
          },
          "metadata": {}
        },
        {
          "output_type": "stream",
          "name": "stderr",
          "text": [
            "WARNING:datasets.arrow_dataset:Loading cached processed dataset at /root/.cache/huggingface/datasets/json/default-bde9aad59e7b23ad/0.0.0/0f7e3662623656454fcd2b650f34e886a7db4b9104504885bd462096cc7a9f51/cache-96943966e5bdf785.arrow\n"
          ]
        }
      ],
      "source": [
        "from datasets import load_dataset\n",
        "import numpy as np\n",
        "import re\n",
        "from matplotlib import pyplot as plt\n",
        "\n",
        "\n",
        "\n",
        "dataset = load_dataset('json',data_files='data.json').class_encode_column('artist')\n",
        "artists_mappings = dataset['train'].features['artist'].names"
      ]
    },
    {
      "cell_type": "code",
      "execution_count": 4,
      "metadata": {
        "id": "F23K7n3r0z6t",
        "outputId": "29a6b37e-3bfa-4ffe-d024-d14fc5f28615",
        "colab": {
          "base_uri": "https://localhost:8080/"
        }
      },
      "outputs": [
        {
          "output_type": "stream",
          "name": "stderr",
          "text": [
            "WARNING:datasets.arrow_dataset:Loading cached processed dataset at /root/.cache/huggingface/datasets/json/default-bde9aad59e7b23ad/0.0.0/0f7e3662623656454fcd2b650f34e886a7db4b9104504885bd462096cc7a9f51/cache-9644d6aba094e1e7.arrow\n"
          ]
        }
      ],
      "source": [
        "def clean(example):\n",
        "    allowed_parts = ['verse','break','chorus','intro', 'interlude', 'bridge', 'outro']\n",
        "    for part in allowed_parts:\n",
        "        example['lyrics']=re.sub(\"\\[.*\"+part+\".*\\]\", f\"[{part}]\", example['lyrics'], flags=re.IGNORECASE)\n",
        "    example['lyrics']=re.sub(\"\\[(?!\"+\"|\".join(allowed_parts)+\").*?\\]\", \"\", example['lyrics'], flags=re.DOTALL)\n",
        "    example['lyrics']=re.sub(\"[0-9]+embed\", \"\", example['lyrics'], flags=re.IGNORECASE)\n",
        "    return example\n",
        "\n",
        "mapped_dataset = dataset.map(clean)\n"
      ]
    },
    {
      "cell_type": "code",
      "execution_count": 5,
      "metadata": {
        "id": "hURNE0Bn0z6t",
        "outputId": "80336232-cd07-4b69-ea39-6313efc92e4d",
        "colab": {
          "base_uri": "https://localhost:8080/"
        }
      },
      "outputs": [
        {
          "output_type": "stream",
          "name": "stderr",
          "text": [
            "WARNING:datasets.arrow_dataset:Loading cached processed dataset at /root/.cache/huggingface/datasets/json/default-bde9aad59e7b23ad/0.0.0/0f7e3662623656454fcd2b650f34e886a7db4b9104504885bd462096cc7a9f51/cache-bb8a070ebd97c345.arrow\n"
          ]
        }
      ],
      "source": [
        "def list_song_parts(example):\n",
        "    parts = re.findall(r'\\[[^\\[\\]]+\\]',example['lyrics']) # Capture everything enclosed in square brackets\n",
        "    for i,part in enumerate(parts): \n",
        "        parts[i] = re.sub(r':.*(?=\\])','',part) # Remove everything from : to the closing bracket ] (Most lyrics contain the name of the singer of these parts e.g. [Chorus: 2 Chainz])\n",
        "    return {'parts': parts}\n",
        "parts = mapped_dataset['train'].map(list_song_parts,remove_columns=dataset['train'].column_names)\n",
        "\n",
        "parts:np.ndarray = np.unique([el for l in parts['parts'] for el in l ])"
      ]
    },
    {
      "cell_type": "code",
      "execution_count": 6,
      "metadata": {
        "id": "mrI68AEO0z6u",
        "outputId": "07ff99fb-731e-402e-8c24-b56478877522",
        "colab": {
          "base_uri": "https://localhost:8080/"
        }
      },
      "outputs": [
        {
          "output_type": "stream",
          "name": "stdout",
          "text": [
            "[break] [bridge] [chorus] [interlude] [intro] [outro] [verse]\n"
          ]
        }
      ],
      "source": [
        "print(*parts)"
      ]
    },
    {
      "cell_type": "code",
      "execution_count": 7,
      "metadata": {
        "id": "kclWEHOD0z6v",
        "outputId": "fbe3e4d2-ee31-47a6-bc11-5c8065eb7673",
        "colab": {
          "base_uri": "https://localhost:8080/"
        }
      },
      "outputs": [
        {
          "output_type": "stream",
          "name": "stdout",
          "text": [
            "XO TOUR Llif3 Lyrics[Intro]\n",
            "Are you alright?\n",
            "I'm alright, I'm quite alright\n",
            "And my money's right\n",
            "8… (Yeah)\n",
            "Countin' them bands\n",
            "All way to the top 'til they be fallin' over\n",
            "(Yeah, yeah, yeah)\n",
            "Countin' them bands\n",
            "On my way to the top 'til we fallin' over\n",
            "\n",
            "[Chorus]\n",
            "I don't really care if you cry\n",
            "On the real, you shoulda never lied\n",
            "Shoulda saw the way she looked me in my eyes\n",
            "She said, \"Baby, I am not afraid to die\"\n",
            "Push me to the edge\n",
            "All my friends are dead\n",
            "Push me to the edge\n",
            "All my friends are dead\n",
            "Push me to the edge\n",
            "All my friends are dead\n",
            "Push me to the edge\n",
            "\n",
            "[Verse 1]\n",
            "Phantom that's all red, inside all white\n",
            "Like somethin' you ride a sled down, I just want that head\n",
            "My Brittany got mad, I'm barely her man now\n",
            "Everybody got the same swag now\n",
            "Watch the way that I tear it down\n",
            "Stackin' my bands all the way to the top\n",
            "All the way 'til my bands fallin' over\n",
            "Every time that you leave your spot\n",
            "Your girlfriend call me like, \"Come on over!\"\n",
            "I like the way that she treat me\n",
            "Gon' leave you, won't leave me, I call it that Casanova\n",
            "She say I'm insane, yeah\n",
            "I might blow my brain out (Hey)\n",
            "Xanny, help the pain, yeah\n",
            "Please, Xanny, make it go away\n",
            "I'm committed, not addicted, but it keep control of me\n",
            "All the pain, now I can't feel it\n",
            "I swear that it's slowin' me, yeah\n",
            "[Chorus]\n",
            "I don't really care if you cry\n",
            "On the real, you shoulda never lied\n",
            "Saw the way she looked me in my eyes\n",
            "She said, \"I am not afraid to die\" (Yeah)\n",
            "All my friends are dead\n",
            "Push me to the edge (Yeah)\n",
            "All my friends are dead, yeah, ooh\n",
            "Push me to the edge\n",
            "All my friends are dead, yeah\n",
            "All my friends are dead, yeah\n",
            "\n",
            "[Verse 2]\n",
            "That is not your swag, I swear you fake hard\n",
            "Now these niggas wanna take my cadence\n",
            "Rain on 'em, thunderstorm, rain on 'em (Ooh, yeah)\n",
            "Medicine, lil' nigga, take some (Yeh, yeh)\n",
            "Fast car, NASCAR, race on 'em\n",
            "In the club, ain't got no ones, then we would beg them\n",
            "Clothes from overseas, got the racks and they all C-Notes\n",
            "You is not a G though\n",
            "Lookin' at you stackin' all your money, it all green though\n",
            "I was countin' that and these all twenties, that's a G-roll\n",
            "\n",
            "[Bridge]\n",
            "She say, \"You're the worst, you're the worst\"\n",
            "I cannot die because this my universe\n",
            "[Chorus]\n",
            "I don't really care if you cry\n",
            "On the real, you shoulda never lied\n",
            "Shoulda saw the way she looked me in my eyes\n",
            "She said, \"Baby, I am not afraid to die\"\n",
            "Push me to the edge\n",
            "All my friends are dead\n",
            "Push me to the edge\n",
            "All my friends are dead\n",
            "Push me to the edge\n",
            "All my friends are dead\n",
            "Push me to the edge780Embed\n",
            "----------------\n",
            "XO TOUR Llif3 Lyrics[intro]\n",
            "Are you alright?\n",
            "I'm alright, I'm quite alright\n",
            "And my money's right\n",
            "8… (Yeah)\n",
            "Countin' them bands\n",
            "All way to the top 'til they be fallin' over\n",
            "(Yeah, yeah, yeah)\n",
            "Countin' them bands\n",
            "On my way to the top 'til we fallin' over\n",
            "\n",
            "[chorus]\n",
            "I don't really care if you cry\n",
            "On the real, you shoulda never lied\n",
            "Shoulda saw the way she looked me in my eyes\n",
            "She said, \"Baby, I am not afraid to die\"\n",
            "Push me to the edge\n",
            "All my friends are dead\n",
            "Push me to the edge\n",
            "All my friends are dead\n",
            "Push me to the edge\n",
            "All my friends are dead\n",
            "Push me to the edge\n",
            "\n",
            "[verse]\n",
            "Phantom that's all red, inside all white\n",
            "Like somethin' you ride a sled down, I just want that head\n",
            "My Brittany got mad, I'm barely her man now\n",
            "Everybody got the same swag now\n",
            "Watch the way that I tear it down\n",
            "Stackin' my bands all the way to the top\n",
            "All the way 'til my bands fallin' over\n",
            "Every time that you leave your spot\n",
            "Your girlfriend call me like, \"Come on over!\"\n",
            "I like the way that she treat me\n",
            "Gon' leave you, won't leave me, I call it that Casanova\n",
            "She say I'm insane, yeah\n",
            "I might blow my brain out (Hey)\n",
            "Xanny, help the pain, yeah\n",
            "Please, Xanny, make it go away\n",
            "I'm committed, not addicted, but it keep control of me\n",
            "All the pain, now I can't feel it\n",
            "I swear that it's slowin' me, yeah\n",
            "[chorus]\n",
            "I don't really care if you cry\n",
            "On the real, you shoulda never lied\n",
            "Saw the way she looked me in my eyes\n",
            "She said, \"I am not afraid to die\" (Yeah)\n",
            "All my friends are dead\n",
            "Push me to the edge (Yeah)\n",
            "All my friends are dead, yeah, ooh\n",
            "Push me to the edge\n",
            "All my friends are dead, yeah\n",
            "All my friends are dead, yeah\n",
            "\n",
            "[verse]\n",
            "That is not your swag, I swear you fake hard\n",
            "Now these niggas wanna take my cadence\n",
            "Rain on 'em, thunderstorm, rain on 'em (Ooh, yeah)\n",
            "Medicine, lil' nigga, take some (Yeh, yeh)\n",
            "Fast car, NASCAR, race on 'em\n",
            "In the club, ain't got no ones, then we would beg them\n",
            "Clothes from overseas, got the racks and they all C-Notes\n",
            "You is not a G though\n",
            "Lookin' at you stackin' all your money, it all green though\n",
            "I was countin' that and these all twenties, that's a G-roll\n",
            "\n",
            "[bridge]\n",
            "She say, \"You're the worst, you're the worst\"\n",
            "I cannot die because this my universe\n",
            "[chorus]\n",
            "I don't really care if you cry\n",
            "On the real, you shoulda never lied\n",
            "Shoulda saw the way she looked me in my eyes\n",
            "She said, \"Baby, I am not afraid to die\"\n",
            "Push me to the edge\n",
            "All my friends are dead\n",
            "Push me to the edge\n",
            "All my friends are dead\n",
            "Push me to the edge\n",
            "All my friends are dead\n",
            "Push me to the edge\n"
          ]
        }
      ],
      "source": [
        "# print(mapped_dataset)\n",
        "print(dataset['train'][1000]['lyrics'])\n",
        "print(\"----------------\")\n",
        "print(mapped_dataset['train'][1000]['lyrics'])"
      ]
    },
    {
      "cell_type": "code",
      "execution_count": 8,
      "metadata": {
        "id": "qZ8TntEb0z6w"
      },
      "outputs": [],
      "source": [
        "allowed_parts = ['verse','break','chorus','intro', 'interlude', 'bridge', 'outro']\n",
        "def contains_one_of(allowed_parts,part:str):\n",
        "    for p in allowed_parts:\n",
        "        if p in part.lower(): return True\n",
        "    return False\n",
        "filtered_parts = np.unique([part for part in parts if contains_one_of(allowed_parts,part)])"
      ]
    },
    {
      "cell_type": "code",
      "execution_count": 9,
      "metadata": {
        "id": "WlibraEy0z6x",
        "outputId": "895a8e6d-84de-4d99-94fd-2e61e45554c4",
        "colab": {
          "base_uri": "https://localhost:8080/"
        }
      },
      "outputs": [
        {
          "output_type": "execute_result",
          "data": {
            "text/plain": [
              "['[break]',\n",
              " '[bridge]',\n",
              " '[chorus]',\n",
              " '[interlude]',\n",
              " '[intro]',\n",
              " '[outro]',\n",
              " '[verse]']"
            ]
          },
          "metadata": {},
          "execution_count": 9
        }
      ],
      "source": [
        "sorted(filtered_parts)"
      ]
    },
    {
      "cell_type": "markdown",
      "metadata": {
        "id": "0l5qxsvg0z6x"
      },
      "source": [
        "# Preprocessing"
      ]
    },
    {
      "cell_type": "code",
      "execution_count": 10,
      "metadata": {
        "id": "SCPutyUP0z6y"
      },
      "outputs": [],
      "source": [
        "def plot_dist(dataset):\n",
        "    counts = {}\n",
        "    for example in dataset:\n",
        "        if example['artist'] not in counts.keys():\n",
        "            counts[example['artist']] = 0\n",
        "        else:\n",
        "            counts[example['artist']] += 1\n",
        "    plt.bar(counts.keys(), counts.values())"
      ]
    },
    {
      "cell_type": "markdown",
      "metadata": {
        "id": "6ZNgHYpY0z6y"
      },
      "source": [
        "## Train Test Val Split"
      ]
    },
    {
      "cell_type": "code",
      "execution_count": 11,
      "metadata": {
        "id": "iAyWIEyd0z6z",
        "outputId": "f68d790e-29ce-474b-c4db-a6eb37fb51d7",
        "colab": {
          "base_uri": "https://localhost:8080/"
        }
      },
      "outputs": [
        {
          "output_type": "execute_result",
          "data": {
            "text/plain": [
              "DatasetDict({\n",
              "    train: Dataset({\n",
              "        features: ['artist', 'lyrics'],\n",
              "        num_rows: 5029\n",
              "    })\n",
              "    test: Dataset({\n",
              "        features: ['artist', 'lyrics'],\n",
              "        num_rows: 1510\n",
              "    })\n",
              "    val: Dataset({\n",
              "        features: ['artist', 'lyrics'],\n",
              "        num_rows: 646\n",
              "    })\n",
              "})"
            ]
          },
          "metadata": {},
          "execution_count": 11
        }
      ],
      "source": [
        "from datasets import DatasetDict\n",
        "tts_mapped_dataset = mapped_dataset['train'].train_test_split(train_size=0.7)\n",
        "mapped_dataset_valid = tts_mapped_dataset['test'].train_test_split(train_size=0.3)\n",
        "\n",
        "train_test_val_dataset = DatasetDict({\n",
        "    'train': tts_mapped_dataset['train'],\n",
        "    'test':mapped_dataset_valid['test'],\n",
        "    'val': mapped_dataset_valid['train']\n",
        "    \n",
        "})\n",
        "\n",
        "train_test_val_dataset"
      ]
    },
    {
      "cell_type": "code",
      "execution_count": 12,
      "metadata": {
        "id": "ESgxEfjW0z6z",
        "outputId": "68ef092b-9ad9-4df1-f70a-5c60b8b5fb89",
        "colab": {
          "base_uri": "https://localhost:8080/",
          "height": 404
        }
      },
      "outputs": [
        {
          "output_type": "display_data",
          "data": {
            "text/plain": [
              "<Figure size 648x432 with 1 Axes>"
            ],
            "image/png": "[encoded data removed]"
          },
          "metadata": {
            "needs_background": "light"
          }
        }
      ],
      "source": [
        "plt.figure(figsize=(9,6))\n",
        "plt.title(\"Train-Test-Valudation barplot\")\n",
        "plt.ylabel(\"count\")\n",
        "plt.xlabel(\"artist\")\n",
        "plot_dist(train_test_val_dataset['train'])\n",
        "plot_dist(train_test_val_dataset['test'])\n",
        "plot_dist(train_test_val_dataset['val'])\n",
        "plt.legend(['train', 'test', 'val'])\n",
        "plt.show()"
      ]
    },
    {
      "cell_type": "markdown",
      "metadata": {
        "id": "FtD3Crz30z60"
      },
      "source": [
        "## Machine Learning"
      ]
    },
    {
      "cell_type": "code",
      "execution_count": 13,
      "metadata": {
        "id": "CwN9Em-70z60",
        "outputId": "1cf4a756-3681-41f6-8e76-732c5e24a32a",
        "colab": {
          "base_uri": "https://localhost:8080/"
        }
      },
      "outputs": [
        {
          "output_type": "stream",
          "name": "stderr",
          "text": [
            "Some weights of the model checkpoint at bert-base-uncased were not used when initializing BertModel: ['cls.predictions.bias', 'cls.predictions.transform.dense.weight', 'cls.predictions.transform.LayerNorm.bias', 'cls.predictions.transform.LayerNorm.weight', 'cls.predictions.decoder.weight', 'cls.seq_relationship.bias', 'cls.predictions.transform.dense.bias', 'cls.seq_relationship.weight']\n",
            "- This IS expected if you are initializing BertModel from the checkpoint of a model trained on another task or with another architecture (e.g. initializing a BertForSequenceClassification model from a BertForPreTraining model).\n",
            "- This IS NOT expected if you are initializing BertModel from the checkpoint of a model that you expect to be exactly identical (initializing a BertForSequenceClassification model from a BertForSequenceClassification model).\n"
          ]
        }
      ],
      "source": [
        "from transformers import AutoModel, AutoTokenizer\n",
        "\n",
        "# Language Model and Tokenizer Declaration:\n",
        "\n",
        "modelckpt=\"bert-base-uncased\"\n",
        "tokenizer = AutoTokenizer.from_pretrained(modelckpt)\n",
        "model = AutoModel.from_pretrained(modelckpt)\n"
      ]
    },
    {
      "cell_type": "code",
      "execution_count": 14,
      "metadata": {
        "id": "6a8rkr4U0z60",
        "outputId": "5a736fbf-cae0-4401-b991-3ca28e7fc05c",
        "colab": {
          "base_uri": "https://localhost:8080/",
          "height": 17,
          "referenced_widgets": [
            "c430c50ef88e4f7da7da87bc8ef80025",
            "ed1a710e2dde4e76b7bc3485f7d3712b",
            "2bf5d835d48e427d8307e4c0c08fffcf",
            "dec4ec76f22241138817549e6b8b94b3",
            "1929ba36d48a4af4802131007d8bf506",
            "0d8b05461a8e4500ae5cea0a97a9e917",
            "04c08e0b21e64a31a50e9ea2edd2caa9",
            "28b9089818374ce4a220defb7ae7de75",
            "0c1d024d756049b4998038f332213d5a",
            "6ecb9339b1c64e3ba6a698aff5dadfc1",
            "25373e18fb724b8887f89828aa3b0e7e",
            "6f0f217703584463a918c3491d61d1d1",
            "a2c40a68609042c59ac5daf0966ef3aa",
            "dfeebc31420d4e1dbcc9d0c1230cab89",
            "9ce9c4ea8dab44339121a4fcb0b5dc20",
            "4829c312b4b0487a9bbedccd7cffc036",
            "667b90501921494481c3306358bfcd7d",
            "34222ea356ee43b096ce5eb0571192a0",
            "caa808ac4fe94655b05fd7817c424d35",
            "11edce2a27ef4bdfa04c6a7a65580b41",
            "fac1f49702ae4197abcaa81336cd8d3c",
            "f160957a77d14c8f823d4b6adc224cf9",
            "8a455d9e307d466ba0244e59dc458f20",
            "d7c978544b16445181ae723ed6729f8c",
            "d29cff035fd54544add70b762ef197b4",
            "62f423e1dee649dbb97ce2c1c5589c32",
            "c74f115f215d4959b7ad51335326f1e7",
            "decb94b84c7d40289a6de34fc6ae82d0",
            "3b3e563d2224450fbb1e13ba14f009d0",
            "b37ae60ef1b64263b30a0f77272c665a",
            "0e673cbb86144a16987b3679afd1d35b",
            "ae2361d0ab304d5f8ee8618f2fa4f3a1",
            "f024784a699844d09744cceb081aebb2"
          ]
        }
      },
      "outputs": [
        {
          "output_type": "display_data",
          "data": {
            "text/plain": [
              "Map:   0%|          | 0/5029 [00:00<?, ? examples/s]"
            ],
            "application/vnd.jupyter.widget-view+json": {
              "version_major": 2,
              "version_minor": 0,
              "model_id": "c430c50ef88e4f7da7da87bc8ef80025"
            }
          },
          "metadata": {}
        },
        {
          "output_type": "display_data",
          "data": {
            "text/plain": [
              "Map:   0%|          | 0/1510 [00:00<?, ? examples/s]"
            ],
            "application/vnd.jupyter.widget-view+json": {
              "version_major": 2,
              "version_minor": 0,
              "model_id": "6f0f217703584463a918c3491d61d1d1"
            }
          },
          "metadata": {}
        },
        {
          "output_type": "display_data",
          "data": {
            "text/plain": [
              "Map:   0%|          | 0/646 [00:00<?, ? examples/s]"
            ],
            "application/vnd.jupyter.widget-view+json": {
              "version_major": 2,
              "version_minor": 0,
              "model_id": "8a455d9e307d466ba0244e59dc458f20"
            }
          },
          "metadata": {}
        }
      ],
      "source": [
        "# Tokenize\n",
        "def prepare_train_features(examples):\n",
        "    tokenized_examples = tokenizer(\n",
        "        examples['lyrics'],\n",
        "        truncation=True,\n",
        "        padding=True,\n",
        "        max_length=512\n",
        "        )\n",
        "    tokenized_examples['labels'] = examples['artist']\n",
        "    return tokenized_examples\n",
        "\n",
        "train_features = train_test_val_dataset['train'].map(prepare_train_features, batched=True, remove_columns=train_test_val_dataset[\"train\"].column_names).with_format('torch')\n",
        "test_features = train_test_val_dataset['test'].map(prepare_train_features, batched=True, remove_columns=train_test_val_dataset[\"test\"].column_names).with_format('torch')\n",
        "val_features = train_test_val_dataset['val'].map(prepare_train_features, batched=True, remove_columns=train_test_val_dataset[\"val\"].column_names).with_format('torch')"
      ]
    },
    {
      "cell_type": "code",
      "execution_count": 15,
      "metadata": {
        "id": "c0K6kpyG0z61",
        "outputId": "079a0283-2880-42f7-8cb4-ab111322cca4",
        "colab": {
          "base_uri": "https://localhost:8080/"
        }
      },
      "outputs": [
        {
          "output_type": "stream",
          "name": "stdout",
          "text": [
            "Looking in indexes: https://pypi.org/simple, https://us-python.pkg.dev/colab-wheels/public/simple/\n",
            "Requirement already satisfied: pytorch_metric_learning in /usr/local/lib/python3.8/dist-packages (2.0.1)\n",
            "Requirement already satisfied: numpy in /usr/local/lib/python3.8/dist-packages (from pytorch_metric_learning) (1.22.4)\n",
            "Requirement already satisfied: tqdm in /usr/local/lib/python3.8/dist-packages (from pytorch_metric_learning) (4.64.1)\n",
            "Requirement already satisfied: scikit-learn in /usr/local/lib/python3.8/dist-packages (from pytorch_metric_learning) (1.2.1)\n",
            "Requirement already satisfied: torch>=1.6.0 in /usr/local/lib/python3.8/dist-packages (from pytorch_metric_learning) (1.13.1+cu116)\n",
            "Requirement already satisfied: typing-extensions in /usr/local/lib/python3.8/dist-packages (from torch>=1.6.0->pytorch_metric_learning) (4.5.0)\n",
            "Requirement already satisfied: joblib>=1.1.1 in /usr/local/lib/python3.8/dist-packages (from scikit-learn->pytorch_metric_learning) (1.2.0)\n",
            "Requirement already satisfied: scipy>=1.3.2 in /usr/local/lib/python3.8/dist-packages (from scikit-learn->pytorch_metric_learning) (1.10.1)\n",
            "Requirement already satisfied: threadpoolctl>=2.0.0 in /usr/local/lib/python3.8/dist-packages (from scikit-learn->pytorch_metric_learning) (3.1.0)\n"
          ]
        }
      ],
      "source": [
        "! pip install pytorch_metric_learning\n",
        "from pytorch_metric_learning import distances, losses, miners, reducers, testers\n"
      ]
    },
    {
      "cell_type": "code",
      "execution_count": 16,
      "metadata": {
        "id": "zW0ULHTf0z61"
      },
      "outputs": [],
      "source": [
        "# # This was made by ChatGPT, keep an eye for possible bugs\n",
        "\n",
        "# import torch\n",
        "# import transformers\n",
        "# from torch.utils.data import DataLoader\n",
        "# from torch.utils.data import Dataset\n",
        "# from transformers import AdamW\n",
        "# from transformers import get_linear_schedule_with_warmup\n",
        "# from transformers import AutoTokenizer, AutoModel,AutoConfig\n",
        "\n",
        "# # Define your dataset and data loader\n",
        "# class SimpleDataset(Dataset):\n",
        "#     def __init__(self, data, tokenizer):\n",
        "#         self.data = data\n",
        "#         self.tokenizer = tokenizer\n",
        "\n",
        "#     def __getitem__(self, index):\n",
        "#         item = {key: torch.tensor(val[index]) for key, val in self.data.items()}\n",
        "#         return item\n",
        "\n",
        "#     def __len__(self):\n",
        "#         return len(self.data['input_ids'])\n",
        "\n",
        "# # Define your triplet loss function\n",
        "# class TripletLoss(torch.nn.Module):\n",
        "#     def __init__(self, margin=1.0):\n",
        "#         super(TripletLoss, self).__init__()\n",
        "#         self.margin = margin\n",
        "\n",
        "#     def forward(self, anchor, positive, negative):\n",
        "#         dist_pos = torch.norm(anchor - positive, p=2, dim=1)\n",
        "#         dist_neg = torch.norm(anchor - negative, p=2, dim=1)\n",
        "#         loss = torch.mean(torch.relu(dist_pos - dist_neg + self.margin))\n",
        "#         return loss\n",
        "    \n",
        "# # Define your model\n",
        "# class TransformerModel(torch.nn.Module):\n",
        "#     def __init__(self, model_name):\n",
        "#         super(TransformerModel, self).__init__()\n",
        "#         self.transformer = AutoModel.from_pretrained(model_name)\n",
        "#         self.dense_layer = torch.nn.Linear(self.transformer.config.hidden_size, self.transformer.config.hidden_size)\n",
        "\n",
        "#     def forward(self, input_ids, attention_mask):\n",
        "#         outputs = self.transformer(input_ids, attention_mask)\n",
        "#         pooled_output = outputs[1]\n",
        "#         embeddings = self.dense_layer(pooled_output)\n",
        "#         return embeddings\n",
        "\n",
        "\n",
        "\n",
        "# # Load your pre-trained model and define your model\n",
        "# model_name = 'bert-base-uncased'\n",
        "# tokenizer = AutoTokenizer.from_pretrained(model_name)\n",
        "# model = TransformerModel(model_name)\n",
        "\n",
        "# # # Freeze all the parameters in the pre-trained model\n",
        "# for param in model.parameters():\n",
        "#     param.requires_grad = False\n",
        "\n",
        "# Set the model to training mode\n",
        "\n"
      ]
    },
    {
      "cell_type": "code",
      "execution_count": 17,
      "metadata": {
        "id": "iCfJOBL00z62",
        "outputId": "b6e36f2c-87da-4b71-e48e-b7575ddb12ad",
        "colab": {
          "base_uri": "https://localhost:8080/"
        }
      },
      "outputs": [
        {
          "output_type": "stream",
          "name": "stderr",
          "text": [
            "Some weights of the model checkpoint at bert-base-uncased were not used when initializing BertModel: ['cls.predictions.bias', 'cls.predictions.transform.dense.weight', 'cls.predictions.transform.LayerNorm.bias', 'cls.predictions.transform.LayerNorm.weight', 'cls.predictions.decoder.weight', 'cls.seq_relationship.bias', 'cls.predictions.transform.dense.bias', 'cls.seq_relationship.weight']\n",
            "- This IS expected if you are initializing BertModel from the checkpoint of a model trained on another task or with another architecture (e.g. initializing a BertForSequenceClassification model from a BertForPreTraining model).\n",
            "- This IS NOT expected if you are initializing BertModel from the checkpoint of a model that you expect to be exactly identical (initializing a BertForSequenceClassification model from a BertForSequenceClassification model).\n",
            "/usr/local/lib/python3.8/dist-packages/transformers/optimization.py:306: FutureWarning: This implementation of AdamW is deprecated and will be removed in a future version. Use the PyTorch implementation torch.optim.AdamW instead, or set `no_deprecation_warning=True` to disable this warning\n",
            "  warnings.warn(\n"
          ]
        }
      ],
      "source": [
        "import torch\n",
        "from torch.utils.data import DataLoader\n",
        "from transformers import AdamW\n",
        "from transformers import get_linear_schedule_with_warmup\n",
        "\n",
        "device = 'cpu'\n",
        "if torch.cuda.is_available():\n",
        "    device='cuda'\n",
        "\n",
        "class TransformerModel(torch.nn.Module):\n",
        "    def __init__(self, model_name):\n",
        "        super(TransformerModel, self).__init__()\n",
        "        self.transformer = AutoModel.from_pretrained(model_name)\n",
        "        self.dense_layer = torch.nn.Linear(self.transformer.config.hidden_size, 3)\n",
        "\n",
        "    def forward(self, input_ids, attention_mask):\n",
        "        outputs = self.transformer(input_ids, attention_mask)\n",
        "        pooled_output = outputs[\"pooler_output\"]\n",
        "        embeddings = self.dense_layer(pooled_output)\n",
        "        return embeddings\n",
        "\n",
        "model = TransformerModel(modelckpt)\n",
        "model = model.to(device)\n",
        "# # Freeze all the parameters in the pre-trained model\n",
        "# for param in model.parameters():\n",
        "#     param.requires_grad = False\n",
        "\n",
        "# Define training hyperparameters\n",
        "learning_rate = 2e-5\n",
        "epochs = 3\n",
        "batch_size = 32\n",
        "\n",
        "# Define your training data\n",
        "train_loader = DataLoader(val_features,batch_size=16, shuffle=True)\n",
        "\n",
        "# Define your optimizer and learning rate scheduler\n",
        "optimizer = AdamW(model.parameters(), lr=learning_rate)\n",
        "total_steps = len(train_loader) * epochs\n",
        "scheduler = get_linear_schedule_with_warmup(optimizer, num_warmup_steps=0, num_training_steps=total_steps)\n",
        "\n",
        "\n",
        "def train(model, loss_func, mining_func, device, train_loader, optimizer, epoch):\n",
        "    model.train()\n",
        "    # Train your model\n",
        "    for batch_idx,batch in enumerate(train_loader):\n",
        "        # Extract the input ids and attention masks from the batch\n",
        "        input_ids = batch['input_ids'].to(device)\n",
        "        attention_mask = batch['attention_mask'].to(device)\n",
        "        labels = batch['labels'].to(device)\n",
        "        \n",
        "        # Encode the inputs using the pre-trained model\n",
        "        embeddings = model(input_ids=input_ids, attention_mask=attention_mask)\n",
        "        # print(embeddings)\n",
        "        indices_tuple = mining_func(embeddings, labels)\n",
        "        loss = loss_func(embeddings, labels, indices_tuple)\n",
        "        loss.backward()\n",
        "        optimizer.step()\n",
        "        if batch_idx % 20 == 0:\n",
        "            print(\n",
        "                \"Epoch {} Iteration {}:  Number of mined triplets = {}\".format(\n",
        "                    epoch, batch_idx, mining_func.num_triplets\n",
        "                )\n",
        "            )\n",
        "\n",
        "    # Print the loss every epoch\n",
        "    print('Epoch [{}/{}], Loss: {:.4f}'.format(epoch+1, epochs, loss.item()))"
      ]
    },
    {
      "cell_type": "code",
      "execution_count": 18,
      "metadata": {
        "id": "jrMS_2Jr0z62",
        "outputId": "499d32c4-9cfe-4953-addf-2ad47ed578ac",
        "colab": {
          "base_uri": "https://localhost:8080/"
        }
      },
      "outputs": [
        {
          "output_type": "stream",
          "name": "stdout",
          "text": [
            "Epoch 1 Iteration 0:  Number of mined triplets = 4\n",
            "Epoch 1 Iteration 20:  Number of mined triplets = 11\n",
            "Epoch 1 Iteration 40:  Number of mined triplets = 0\n",
            "Epoch [2/3], Loss: 0.0000\n"
          ]
        }
      ],
      "source": [
        "margin = 0.05\n",
        "loss_func = losses.TripletMarginLoss(margin=margin) # triplet loss with margin 0.1\n",
        "mining_func = miners.TripletMarginMiner(margin=margin, type_of_triplets=\"semihard\") # use semihard mining\n",
        "\n",
        "num_epochs = 1 # train for 1 epoch\n",
        "\n",
        "for epoch in range(1, num_epochs + 1):\n",
        "    train(model, loss_func, mining_func, device, train_loader, optimizer, epoch)"
      ]
    }
  ],
  "metadata": {
    "kernelspec": {
      "display_name": "ML_venv",
      "language": "python",
      "name": "python3"
    },
    "language_info": {
      "codemirror_mode": {
        "name": "ipython",
        "version": 3
      },
      "file_extension": ".py",
      "mimetype": "text/x-python",
      "name": "python",
      "nbconvert_exporter": "python",
      "pygments_lexer": "ipython3",
      "version": "3.10.2"
    },
    "orig_nbformat": 4,
    "vscode": {
      "interpreter": {
        "hash": "7486034c368b724a4f5b8fe7b1c697f01f7a86a113524f74e082ec2feaceabdc"
      }
    },
    "colab": {
      "provenance": []
    },
    "accelerator": "GPU",
    "gpuClass": "standard",
    "widgets": {
      "application/vnd.jupyter.widget-state+json": {
        "488b6231adc54975abf2441fb4bb60e4": {
          "model_module": "@jupyter-widgets/controls",
          "model_name": "HBoxModel",
          "model_module_version": "1.5.0",
          "state": {
            "_dom_classes": [],
            "_model_module": "@jupyter-widgets/controls",
            "_model_module_version": "1.5.0",
            "_model_name": "HBoxModel",
            "_view_count": null,
            "_view_module": "@jupyter-widgets/controls",
            "_view_module_version": "1.5.0",
            "_view_name": "HBoxView",
            "box_style": "",
            "children": [
              "IPY_MODEL_783968c96d7e4525aa057a8aecbb72c8",
              "IPY_MODEL_b365bfa781ae42988ffc30a674889769",
              "IPY_MODEL_de2d5bb39c2e4ff787d8d788d40458ba"
            ],
            "layout": "IPY_MODEL_d5b8e24fb9b3479bb37fa417e0325e52"
          }
        },
        "783968c96d7e4525aa057a8aecbb72c8": {
          "model_module": "@jupyter-widgets/controls",
          "model_name": "HTMLModel",
          "model_module_version": "1.5.0",
          "state": {
            "_dom_classes": [],
            "_model_module": "@jupyter-widgets/controls",
            "_model_module_version": "1.5.0",
            "_model_name": "HTMLModel",
            "_view_count": null,
            "_view_module": "@jupyter-widgets/controls",
            "_view_module_version": "1.5.0",
            "_view_name": "HTMLView",
            "description": "",
            "description_tooltip": null,
            "layout": "IPY_MODEL_42597efe200940528abc2dcf77f51848",
            "placeholder": "​",
            "style": "IPY_MODEL_182369fc03c440ddacb121b07a0c9eea",
            "value": "100%"
          }
        },
        "b365bfa781ae42988ffc30a674889769": {
          "model_module": "@jupyter-widgets/controls",
          "model_name": "FloatProgressModel",
          "model_module_version": "1.5.0",
          "state": {
            "_dom_classes": [],
            "_model_module": "@jupyter-widgets/controls",
            "_model_module_version": "1.5.0",
            "_model_name": "FloatProgressModel",
            "_view_count": null,
            "_view_module": "@jupyter-widgets/controls",
            "_view_module_version": "1.5.0",
            "_view_name": "ProgressView",
            "bar_style": "success",
            "description": "",
            "description_tooltip": null,
            "layout": "IPY_MODEL_979174ac35044c07b91ddccee6d19d80",
            "max": 1,
            "min": 0,
            "orientation": "horizontal",
            "style": "IPY_MODEL_cd4bf773110643c69b0ca4298440781d",
            "value": 1
          }
        },
        "de2d5bb39c2e4ff787d8d788d40458ba": {
          "model_module": "@jupyter-widgets/controls",
          "model_name": "HTMLModel",
          "model_module_version": "1.5.0",
          "state": {
            "_dom_classes": [],
            "_model_module": "@jupyter-widgets/controls",
            "_model_module_version": "1.5.0",
            "_model_name": "HTMLModel",
            "_view_count": null,
            "_view_module": "@jupyter-widgets/controls",
            "_view_module_version": "1.5.0",
            "_view_name": "HTMLView",
            "description": "",
            "description_tooltip": null,
            "layout": "IPY_MODEL_3eec44e4aa05499f8ddd6b114c8403f6",
            "placeholder": "​",
            "style": "IPY_MODEL_9ecdddd192f74db3aad17c22a8a89835",
            "value": " 1/1 [00:00&lt;00:00, 34.49it/s]"
          }
        },
        "d5b8e24fb9b3479bb37fa417e0325e52": {
          "model_module": "@jupyter-widgets/base",
          "model_name": "LayoutModel",
          "model_module_version": "1.2.0",
          "state": {
            "_model_module": "@jupyter-widgets/base",
            "_model_module_version": "1.2.0",
            "_model_name": "LayoutModel",
            "_view_count": null,
            "_view_module": "@jupyter-widgets/base",
            "_view_module_version": "1.2.0",
            "_view_name": "LayoutView",
            "align_content": null,
            "align_items": null,
            "align_self": null,
            "border": null,
            "bottom": null,
            "display": null,
            "flex": null,
            "flex_flow": null,
            "grid_area": null,
            "grid_auto_columns": null,
            "grid_auto_flow": null,
            "grid_auto_rows": null,
            "grid_column": null,
            "grid_gap": null,
            "grid_row": null,
            "grid_template_areas": null,
            "grid_template_columns": null,
            "grid_template_rows": null,
            "height": null,
            "justify_content": null,
            "justify_items": null,
            "left": null,
            "margin": null,
            "max_height": null,
            "max_width": null,
            "min_height": null,
            "min_width": null,
            "object_fit": null,
            "object_position": null,
            "order": null,
            "overflow": null,
            "overflow_x": null,
            "overflow_y": null,
            "padding": null,
            "right": null,
            "top": null,
            "visibility": null,
            "width": null
          }
        },
        "42597efe200940528abc2dcf77f51848": {
          "model_module": "@jupyter-widgets/base",
          "model_name": "LayoutModel",
          "model_module_version": "1.2.0",
          "state": {
            "_model_module": "@jupyter-widgets/base",
            "_model_module_version": "1.2.0",
            "_model_name": "LayoutModel",
            "_view_count": null,
            "_view_module": "@jupyter-widgets/base",
            "_view_module_version": "1.2.0",
            "_view_name": "LayoutView",
            "align_content": null,
            "align_items": null,
            "align_self": null,
            "border": null,
            "bottom": null,
            "display": null,
            "flex": null,
            "flex_flow": null,
            "grid_area": null,
            "grid_auto_columns": null,
            "grid_auto_flow": null,
            "grid_auto_rows": null,
            "grid_column": null,
            "grid_gap": null,
            "grid_row": null,
            "grid_template_areas": null,
            "grid_template_columns": null,
            "grid_template_rows": null,
            "height": null,
            "justify_content": null,
            "justify_items": null,
            "left": null,
            "margin": null,
            "max_height": null,
            "max_width": null,
            "min_height": null,
            "min_width": null,
            "object_fit": null,
            "object_position": null,
            "order": null,
            "overflow": null,
            "overflow_x": null,
            "overflow_y": null,
            "padding": null,
            "right": null,
            "top": null,
            "visibility": null,
            "width": null
          }
        },
        "182369fc03c440ddacb121b07a0c9eea": {
          "model_module": "@jupyter-widgets/controls",
          "model_name": "DescriptionStyleModel",
          "model_module_version": "1.5.0",
          "state": {
            "_model_module": "@jupyter-widgets/controls",
            "_model_module_version": "1.5.0",
            "_model_name": "DescriptionStyleModel",
            "_view_count": null,
            "_view_module": "@jupyter-widgets/base",
            "_view_module_version": "1.2.0",
            "_view_name": "StyleView",
            "description_width": ""
          }
        },
        "979174ac35044c07b91ddccee6d19d80": {
          "model_module": "@jupyter-widgets/base",
          "model_name": "LayoutModel",
          "model_module_version": "1.2.0",
          "state": {
            "_model_module": "@jupyter-widgets/base",
            "_model_module_version": "1.2.0",
            "_model_name": "LayoutModel",
            "_view_count": null,
            "_view_module": "@jupyter-widgets/base",
            "_view_module_version": "1.2.0",
            "_view_name": "LayoutView",
            "align_content": null,
            "align_items": null,
            "align_self": null,
            "border": null,
            "bottom": null,
            "display": null,
            "flex": null,
            "flex_flow": null,
            "grid_area": null,
            "grid_auto_columns": null,
            "grid_auto_flow": null,
            "grid_auto_rows": null,
            "grid_column": null,
            "grid_gap": null,
            "grid_row": null,
            "grid_template_areas": null,
            "grid_template_columns": null,
            "grid_template_rows": null,
            "height": null,
            "justify_content": null,
            "justify_items": null,
            "left": null,
            "margin": null,
            "max_height": null,
            "max_width": null,
            "min_height": null,
            "min_width": null,
            "object_fit": null,
            "object_position": null,
            "order": null,
            "overflow": null,
            "overflow_x": null,
            "overflow_y": null,
            "padding": null,
            "right": null,
            "top": null,
            "visibility": null,
            "width": null
          }
        },
        "cd4bf773110643c69b0ca4298440781d": {
          "model_module": "@jupyter-widgets/controls",
          "model_name": "ProgressStyleModel",
          "model_module_version": "1.5.0",
          "state": {
            "_model_module": "@jupyter-widgets/controls",
            "_model_module_version": "1.5.0",
            "_model_name": "ProgressStyleModel",
            "_view_count": null,
            "_view_module": "@jupyter-widgets/base",
            "_view_module_version": "1.2.0",
            "_view_name": "StyleView",
            "bar_color": null,
            "description_width": ""
          }
        },
        "3eec44e4aa05499f8ddd6b114c8403f6": {
          "model_module": "@jupyter-widgets/base",
          "model_name": "LayoutModel",
          "model_module_version": "1.2.0",
          "state": {
            "_model_module": "@jupyter-widgets/base",
            "_model_module_version": "1.2.0",
            "_model_name": "LayoutModel",
            "_view_count": null,
            "_view_module": "@jupyter-widgets/base",
            "_view_module_version": "1.2.0",
            "_view_name": "LayoutView",
            "align_content": null,
            "align_items": null,
            "align_self": null,
            "border": null,
            "bottom": null,
            "display": null,
            "flex": null,
            "flex_flow": null,
            "grid_area": null,
            "grid_auto_columns": null,
            "grid_auto_flow": null,
            "grid_auto_rows": null,
            "grid_column": null,
            "grid_gap": null,
            "grid_row": null,
            "grid_template_areas": null,
            "grid_template_columns": null,
            "grid_template_rows": null,
            "height": null,
            "justify_content": null,
            "justify_items": null,
            "left": null,
            "margin": null,
            "max_height": null,
            "max_width": null,
            "min_height": null,
            "min_width": null,
            "object_fit": null,
            "object_position": null,
            "order": null,
            "overflow": null,
            "overflow_x": null,
            "overflow_y": null,
            "padding": null,
            "right": null,
            "top": null,
            "visibility": null,
            "width": null
          }
        },
        "9ecdddd192f74db3aad17c22a8a89835": {
          "model_module": "@jupyter-widgets/controls",
          "model_name": "DescriptionStyleModel",
          "model_module_version": "1.5.0",
          "state": {
            "_model_module": "@jupyter-widgets/controls",
            "_model_module_version": "1.5.0",
            "_model_name": "DescriptionStyleModel",
            "_view_count": null,
            "_view_module": "@jupyter-widgets/base",
            "_view_module_version": "1.2.0",
            "_view_name": "StyleView",
            "description_width": ""
          }
        },
        "c430c50ef88e4f7da7da87bc8ef80025": {
          "model_module": "@jupyter-widgets/controls",
          "model_name": "HBoxModel",
          "model_module_version": "1.5.0",
          "state": {
            "_dom_classes": [],
            "_model_module": "@jupyter-widgets/controls",
            "_model_module_version": "1.5.0",
            "_model_name": "HBoxModel",
            "_view_count": null,
            "_view_module": "@jupyter-widgets/controls",
            "_view_module_version": "1.5.0",
            "_view_name": "HBoxView",
            "box_style": "",
            "children": [
              "IPY_MODEL_ed1a710e2dde4e76b7bc3485f7d3712b",
              "IPY_MODEL_2bf5d835d48e427d8307e4c0c08fffcf",
              "IPY_MODEL_dec4ec76f22241138817549e6b8b94b3"
            ],
            "layout": "IPY_MODEL_1929ba36d48a4af4802131007d8bf506"
          }
        },
        "ed1a710e2dde4e76b7bc3485f7d3712b": {
          "model_module": "@jupyter-widgets/controls",
          "model_name": "HTMLModel",
          "model_module_version": "1.5.0",
          "state": {
            "_dom_classes": [],
            "_model_module": "@jupyter-widgets/controls",
            "_model_module_version": "1.5.0",
            "_model_name": "HTMLModel",
            "_view_count": null,
            "_view_module": "@jupyter-widgets/controls",
            "_view_module_version": "1.5.0",
            "_view_name": "HTMLView",
            "description": "",
            "description_tooltip": null,
            "layout": "IPY_MODEL_0d8b05461a8e4500ae5cea0a97a9e917",
            "placeholder": "​",
            "style": "IPY_MODEL_04c08e0b21e64a31a50e9ea2edd2caa9",
            "value": "Map:  99%"
          }
        },
        "2bf5d835d48e427d8307e4c0c08fffcf": {
          "model_module": "@jupyter-widgets/controls",
          "model_name": "FloatProgressModel",
          "model_module_version": "1.5.0",
          "state": {
            "_dom_classes": [],
            "_model_module": "@jupyter-widgets/controls",
            "_model_module_version": "1.5.0",
            "_model_name": "FloatProgressModel",
            "_view_count": null,
            "_view_module": "@jupyter-widgets/controls",
            "_view_module_version": "1.5.0",
            "_view_name": "ProgressView",
            "bar_style": "",
            "description": "",
            "description_tooltip": null,
            "layout": "IPY_MODEL_28b9089818374ce4a220defb7ae7de75",
            "max": 5029,
            "min": 0,
            "orientation": "horizontal",
            "style": "IPY_MODEL_0c1d024d756049b4998038f332213d5a",
            "value": 5029
          }
        },
        "dec4ec76f22241138817549e6b8b94b3": {
          "model_module": "@jupyter-widgets/controls",
          "model_name": "HTMLModel",
          "model_module_version": "1.5.0",
          "state": {
            "_dom_classes": [],
            "_model_module": "@jupyter-widgets/controls",
            "_model_module_version": "1.5.0",
            "_model_name": "HTMLModel",
            "_view_count": null,
            "_view_module": "@jupyter-widgets/controls",
            "_view_module_version": "1.5.0",
            "_view_name": "HTMLView",
            "description": "",
            "description_tooltip": null,
            "layout": "IPY_MODEL_6ecb9339b1c64e3ba6a698aff5dadfc1",
            "placeholder": "​",
            "style": "IPY_MODEL_25373e18fb724b8887f89828aa3b0e7e",
            "value": " 5000/5029 [00:17&lt;00:00, 313.36 examples/s]"
          }
        },
        "1929ba36d48a4af4802131007d8bf506": {
          "model_module": "@jupyter-widgets/base",
          "model_name": "LayoutModel",
          "model_module_version": "1.2.0",
          "state": {
            "_model_module": "@jupyter-widgets/base",
            "_model_module_version": "1.2.0",
            "_model_name": "LayoutModel",
            "_view_count": null,
            "_view_module": "@jupyter-widgets/base",
            "_view_module_version": "1.2.0",
            "_view_name": "LayoutView",
            "align_content": null,
            "align_items": null,
            "align_self": null,
            "border": null,
            "bottom": null,
            "display": null,
            "flex": null,
            "flex_flow": null,
            "grid_area": null,
            "grid_auto_columns": null,
            "grid_auto_flow": null,
            "grid_auto_rows": null,
            "grid_column": null,
            "grid_gap": null,
            "grid_row": null,
            "grid_template_areas": null,
            "grid_template_columns": null,
            "grid_template_rows": null,
            "height": null,
            "justify_content": null,
            "justify_items": null,
            "left": null,
            "margin": null,
            "max_height": null,
            "max_width": null,
            "min_height": null,
            "min_width": null,
            "object_fit": null,
            "object_position": null,
            "order": null,
            "overflow": null,
            "overflow_x": null,
            "overflow_y": null,
            "padding": null,
            "right": null,
            "top": null,
            "visibility": "hidden",
            "width": null
          }
        },
        "0d8b05461a8e4500ae5cea0a97a9e917": {
          "model_module": "@jupyter-widgets/base",
          "model_name": "LayoutModel",
          "model_module_version": "1.2.0",
          "state": {
            "_model_module": "@jupyter-widgets/base",
            "_model_module_version": "1.2.0",
            "_model_name": "LayoutModel",
            "_view_count": null,
            "_view_module": "@jupyter-widgets/base",
            "_view_module_version": "1.2.0",
            "_view_name": "LayoutView",
            "align_content": null,
            "align_items": null,
            "align_self": null,
            "border": null,
            "bottom": null,
            "display": null,
            "flex": null,
            "flex_flow": null,
            "grid_area": null,
            "grid_auto_columns": null,
            "grid_auto_flow": null,
            "grid_auto_rows": null,
            "grid_column": null,
            "grid_gap": null,
            "grid_row": null,
            "grid_template_areas": null,
            "grid_template_columns": null,
            "grid_template_rows": null,
            "height": null,
            "justify_content": null,
            "justify_items": null,
            "left": null,
            "margin": null,
            "max_height": null,
            "max_width": null,
            "min_height": null,
            "min_width": null,
            "object_fit": null,
            "object_position": null,
            "order": null,
            "overflow": null,
            "overflow_x": null,
            "overflow_y": null,
            "padding": null,
            "right": null,
            "top": null,
            "visibility": null,
            "width": null
          }
        },
        "04c08e0b21e64a31a50e9ea2edd2caa9": {
          "model_module": "@jupyter-widgets/controls",
          "model_name": "DescriptionStyleModel",
          "model_module_version": "1.5.0",
          "state": {
            "_model_module": "@jupyter-widgets/controls",
            "_model_module_version": "1.5.0",
            "_model_name": "DescriptionStyleModel",
            "_view_count": null,
            "_view_module": "@jupyter-widgets/base",
            "_view_module_version": "1.2.0",
            "_view_name": "StyleView",
            "description_width": ""
          }
        },
        "28b9089818374ce4a220defb7ae7de75": {
          "model_module": "@jupyter-widgets/base",
          "model_name": "LayoutModel",
          "model_module_version": "1.2.0",
          "state": {
            "_model_module": "@jupyter-widgets/base",
            "_model_module_version": "1.2.0",
            "_model_name": "LayoutModel",
            "_view_count": null,
            "_view_module": "@jupyter-widgets/base",
            "_view_module_version": "1.2.0",
            "_view_name": "LayoutView",
            "align_content": null,
            "align_items": null,
            "align_self": null,
            "border": null,
            "bottom": null,
            "display": null,
            "flex": null,
            "flex_flow": null,
            "grid_area": null,
            "grid_auto_columns": null,
            "grid_auto_flow": null,
            "grid_auto_rows": null,
            "grid_column": null,
            "grid_gap": null,
            "grid_row": null,
            "grid_template_areas": null,
            "grid_template_columns": null,
            "grid_template_rows": null,
            "height": null,
            "justify_content": null,
            "justify_items": null,
            "left": null,
            "margin": null,
            "max_height": null,
            "max_width": null,
            "min_height": null,
            "min_width": null,
            "object_fit": null,
            "object_position": null,
            "order": null,
            "overflow": null,
            "overflow_x": null,
            "overflow_y": null,
            "padding": null,
            "right": null,
            "top": null,
            "visibility": null,
            "width": null
          }
        },
        "0c1d024d756049b4998038f332213d5a": {
          "model_module": "@jupyter-widgets/controls",
          "model_name": "ProgressStyleModel",
          "model_module_version": "1.5.0",
          "state": {
            "_model_module": "@jupyter-widgets/controls",
            "_model_module_version": "1.5.0",
            "_model_name": "ProgressStyleModel",
            "_view_count": null,
            "_view_module": "@jupyter-widgets/base",
            "_view_module_version": "1.2.0",
            "_view_name": "StyleView",
            "bar_color": null,
            "description_width": ""
          }
        },
        "6ecb9339b1c64e3ba6a698aff5dadfc1": {
          "model_module": "@jupyter-widgets/base",
          "model_name": "LayoutModel",
          "model_module_version": "1.2.0",
          "state": {
            "_model_module": "@jupyter-widgets/base",
            "_model_module_version": "1.2.0",
            "_model_name": "LayoutModel",
            "_view_count": null,
            "_view_module": "@jupyter-widgets/base",
            "_view_module_version": "1.2.0",
            "_view_name": "LayoutView",
            "align_content": null,
            "align_items": null,
            "align_self": null,
            "border": null,
            "bottom": null,
            "display": null,
            "flex": null,
            "flex_flow": null,
            "grid_area": null,
            "grid_auto_columns": null,
            "grid_auto_flow": null,
            "grid_auto_rows": null,
            "grid_column": null,
            "grid_gap": null,
            "grid_row": null,
            "grid_template_areas": null,
            "grid_template_columns": null,
            "grid_template_rows": null,
            "height": null,
            "justify_content": null,
            "justify_items": null,
            "left": null,
            "margin": null,
            "max_height": null,
            "max_width": null,
            "min_height": null,
            "min_width": null,
            "object_fit": null,
            "object_position": null,
            "order": null,
            "overflow": null,
            "overflow_x": null,
            "overflow_y": null,
            "padding": null,
            "right": null,
            "top": null,
            "visibility": null,
            "width": null
          }
        },
        "25373e18fb724b8887f89828aa3b0e7e": {
          "model_module": "@jupyter-widgets/controls",
          "model_name": "DescriptionStyleModel",
          "model_module_version": "1.5.0",
          "state": {
            "_model_module": "@jupyter-widgets/controls",
            "_model_module_version": "1.5.0",
            "_model_name": "DescriptionStyleModel",
            "_view_count": null,
            "_view_module": "@jupyter-widgets/base",
            "_view_module_version": "1.2.0",
            "_view_name": "StyleView",
            "description_width": ""
          }
        },
        "6f0f217703584463a918c3491d61d1d1": {
          "model_module": "@jupyter-widgets/controls",
          "model_name": "HBoxModel",
          "model_module_version": "1.5.0",
          "state": {
            "_dom_classes": [],
            "_model_module": "@jupyter-widgets/controls",
            "_model_module_version": "1.5.0",
            "_model_name": "HBoxModel",
            "_view_count": null,
            "_view_module": "@jupyter-widgets/controls",
            "_view_module_version": "1.5.0",
            "_view_name": "HBoxView",
            "box_style": "",
            "children": [
              "IPY_MODEL_a2c40a68609042c59ac5daf0966ef3aa",
              "IPY_MODEL_dfeebc31420d4e1dbcc9d0c1230cab89",
              "IPY_MODEL_9ce9c4ea8dab44339121a4fcb0b5dc20"
            ],
            "layout": "IPY_MODEL_4829c312b4b0487a9bbedccd7cffc036"
          }
        },
        "a2c40a68609042c59ac5daf0966ef3aa": {
          "model_module": "@jupyter-widgets/controls",
          "model_name": "HTMLModel",
          "model_module_version": "1.5.0",
          "state": {
            "_dom_classes": [],
            "_model_module": "@jupyter-widgets/controls",
            "_model_module_version": "1.5.0",
            "_model_name": "HTMLModel",
            "_view_count": null,
            "_view_module": "@jupyter-widgets/controls",
            "_view_module_version": "1.5.0",
            "_view_name": "HTMLView",
            "description": "",
            "description_tooltip": null,
            "layout": "IPY_MODEL_667b90501921494481c3306358bfcd7d",
            "placeholder": "​",
            "style": "IPY_MODEL_34222ea356ee43b096ce5eb0571192a0",
            "value": "Map: 100%"
          }
        },
        "dfeebc31420d4e1dbcc9d0c1230cab89": {
          "model_module": "@jupyter-widgets/controls",
          "model_name": "FloatProgressModel",
          "model_module_version": "1.5.0",
          "state": {
            "_dom_classes": [],
            "_model_module": "@jupyter-widgets/controls",
            "_model_module_version": "1.5.0",
            "_model_name": "FloatProgressModel",
            "_view_count": null,
            "_view_module": "@jupyter-widgets/controls",
            "_view_module_version": "1.5.0",
            "_view_name": "ProgressView",
            "bar_style": "",
            "description": "",
            "description_tooltip": null,
            "layout": "IPY_MODEL_caa808ac4fe94655b05fd7817c424d35",
            "max": 1510,
            "min": 0,
            "orientation": "horizontal",
            "style": "IPY_MODEL_11edce2a27ef4bdfa04c6a7a65580b41",
            "value": 1510
          }
        },
        "9ce9c4ea8dab44339121a4fcb0b5dc20": {
          "model_module": "@jupyter-widgets/controls",
          "model_name": "HTMLModel",
          "model_module_version": "1.5.0",
          "state": {
            "_dom_classes": [],
            "_model_module": "@jupyter-widgets/controls",
            "_model_module_version": "1.5.0",
            "_model_name": "HTMLModel",
            "_view_count": null,
            "_view_module": "@jupyter-widgets/controls",
            "_view_module_version": "1.5.0",
            "_view_name": "HTMLView",
            "description": "",
            "description_tooltip": null,
            "layout": "IPY_MODEL_fac1f49702ae4197abcaa81336cd8d3c",
            "placeholder": "​",
            "style": "IPY_MODEL_f160957a77d14c8f823d4b6adc224cf9",
            "value": " 1510/1510 [00:06&lt;00:00, 257.56 examples/s]"
          }
        },
        "4829c312b4b0487a9bbedccd7cffc036": {
          "model_module": "@jupyter-widgets/base",
          "model_name": "LayoutModel",
          "model_module_version": "1.2.0",
          "state": {
            "_model_module": "@jupyter-widgets/base",
            "_model_module_version": "1.2.0",
            "_model_name": "LayoutModel",
            "_view_count": null,
            "_view_module": "@jupyter-widgets/base",
            "_view_module_version": "1.2.0",
            "_view_name": "LayoutView",
            "align_content": null,
            "align_items": null,
            "align_self": null,
            "border": null,
            "bottom": null,
            "display": null,
            "flex": null,
            "flex_flow": null,
            "grid_area": null,
            "grid_auto_columns": null,
            "grid_auto_flow": null,
            "grid_auto_rows": null,
            "grid_column": null,
            "grid_gap": null,
            "grid_row": null,
            "grid_template_areas": null,
            "grid_template_columns": null,
            "grid_template_rows": null,
            "height": null,
            "justify_content": null,
            "justify_items": null,
            "left": null,
            "margin": null,
            "max_height": null,
            "max_width": null,
            "min_height": null,
            "min_width": null,
            "object_fit": null,
            "object_position": null,
            "order": null,
            "overflow": null,
            "overflow_x": null,
            "overflow_y": null,
            "padding": null,
            "right": null,
            "top": null,
            "visibility": "hidden",
            "width": null
          }
        },
        "667b90501921494481c3306358bfcd7d": {
          "model_module": "@jupyter-widgets/base",
          "model_name": "LayoutModel",
          "model_module_version": "1.2.0",
          "state": {
            "_model_module": "@jupyter-widgets/base",
            "_model_module_version": "1.2.0",
            "_model_name": "LayoutModel",
            "_view_count": null,
            "_view_module": "@jupyter-widgets/base",
            "_view_module_version": "1.2.0",
            "_view_name": "LayoutView",
            "align_content": null,
            "align_items": null,
            "align_self": null,
            "border": null,
            "bottom": null,
            "display": null,
            "flex": null,
            "flex_flow": null,
            "grid_area": null,
            "grid_auto_columns": null,
            "grid_auto_flow": null,
            "grid_auto_rows": null,
            "grid_column": null,
            "grid_gap": null,
            "grid_row": null,
            "grid_template_areas": null,
            "grid_template_columns": null,
            "grid_template_rows": null,
            "height": null,
            "justify_content": null,
            "justify_items": null,
            "left": null,
            "margin": null,
            "max_height": null,
            "max_width": null,
            "min_height": null,
            "min_width": null,
            "object_fit": null,
            "object_position": null,
            "order": null,
            "overflow": null,
            "overflow_x": null,
            "overflow_y": null,
            "padding": null,
            "right": null,
            "top": null,
            "visibility": null,
            "width": null
          }
        },
        "34222ea356ee43b096ce5eb0571192a0": {
          "model_module": "@jupyter-widgets/controls",
          "model_name": "DescriptionStyleModel",
          "model_module_version": "1.5.0",
          "state": {
            "_model_module": "@jupyter-widgets/controls",
            "_model_module_version": "1.5.0",
            "_model_name": "DescriptionStyleModel",
            "_view_count": null,
            "_view_module": "@jupyter-widgets/base",
            "_view_module_version": "1.2.0",
            "_view_name": "StyleView",
            "description_width": ""
          }
        },
        "caa808ac4fe94655b05fd7817c424d35": {
          "model_module": "@jupyter-widgets/base",
          "model_name": "LayoutModel",
          "model_module_version": "1.2.0",
          "state": {
            "_model_module": "@jupyter-widgets/base",
            "_model_module_version": "1.2.0",
            "_model_name": "LayoutModel",
            "_view_count": null,
            "_view_module": "@jupyter-widgets/base",
            "_view_module_version": "1.2.0",
            "_view_name": "LayoutView",
            "align_content": null,
            "align_items": null,
            "align_self": null,
            "border": null,
            "bottom": null,
            "display": null,
            "flex": null,
            "flex_flow": null,
            "grid_area": null,
            "grid_auto_columns": null,
            "grid_auto_flow": null,
            "grid_auto_rows": null,
            "grid_column": null,
            "grid_gap": null,
            "grid_row": null,
            "grid_template_areas": null,
            "grid_template_columns": null,
            "grid_template_rows": null,
            "height": null,
            "justify_content": null,
            "justify_items": null,
            "left": null,
            "margin": null,
            "max_height": null,
            "max_width": null,
            "min_height": null,
            "min_width": null,
            "object_fit": null,
            "object_position": null,
            "order": null,
            "overflow": null,
            "overflow_x": null,
            "overflow_y": null,
            "padding": null,
            "right": null,
            "top": null,
            "visibility": null,
            "width": null
          }
        },
        "11edce2a27ef4bdfa04c6a7a65580b41": {
          "model_module": "@jupyter-widgets/controls",
          "model_name": "ProgressStyleModel",
          "model_module_version": "1.5.0",
          "state": {
            "_model_module": "@jupyter-widgets/controls",
            "_model_module_version": "1.5.0",
            "_model_name": "ProgressStyleModel",
            "_view_count": null,
            "_view_module": "@jupyter-widgets/base",
            "_view_module_version": "1.2.0",
            "_view_name": "StyleView",
            "bar_color": null,
            "description_width": ""
          }
        },
        "fac1f49702ae4197abcaa81336cd8d3c": {
          "model_module": "@jupyter-widgets/base",
          "model_name": "LayoutModel",
          "model_module_version": "1.2.0",
          "state": {
            "_model_module": "@jupyter-widgets/base",
            "_model_module_version": "1.2.0",
            "_model_name": "LayoutModel",
            "_view_count": null,
            "_view_module": "@jupyter-widgets/base",
            "_view_module_version": "1.2.0",
            "_view_name": "LayoutView",
            "align_content": null,
            "align_items": null,
            "align_self": null,
            "border": null,
            "bottom": null,
            "display": null,
            "flex": null,
            "flex_flow": null,
            "grid_area": null,
            "grid_auto_columns": null,
            "grid_auto_flow": null,
            "grid_auto_rows": null,
            "grid_column": null,
            "grid_gap": null,
            "grid_row": null,
            "grid_template_areas": null,
            "grid_template_columns": null,
            "grid_template_rows": null,
            "height": null,
            "justify_content": null,
            "justify_items": null,
            "left": null,
            "margin": null,
            "max_height": null,
            "max_width": null,
            "min_height": null,
            "min_width": null,
            "object_fit": null,
            "object_position": null,
            "order": null,
            "overflow": null,
            "overflow_x": null,
            "overflow_y": null,
            "padding": null,
            "right": null,
            "top": null,
            "visibility": null,
            "width": null
          }
        },
        "f160957a77d14c8f823d4b6adc224cf9": {
          "model_module": "@jupyter-widgets/controls",
          "model_name": "DescriptionStyleModel",
          "model_module_version": "1.5.0",
          "state": {
            "_model_module": "@jupyter-widgets/controls",
            "_model_module_version": "1.5.0",
            "_model_name": "DescriptionStyleModel",
            "_view_count": null,
            "_view_module": "@jupyter-widgets/base",
            "_view_module_version": "1.2.0",
            "_view_name": "StyleView",
            "description_width": ""
          }
        },
        "8a455d9e307d466ba0244e59dc458f20": {
          "model_module": "@jupyter-widgets/controls",
          "model_name": "HBoxModel",
          "model_module_version": "1.5.0",
          "state": {
            "_dom_classes": [],
            "_model_module": "@jupyter-widgets/controls",
            "_model_module_version": "1.5.0",
            "_model_name": "HBoxModel",
            "_view_count": null,
            "_view_module": "@jupyter-widgets/controls",
            "_view_module_version": "1.5.0",
            "_view_name": "HBoxView",
            "box_style": "",
            "children": [
              "IPY_MODEL_d7c978544b16445181ae723ed6729f8c",
              "IPY_MODEL_d29cff035fd54544add70b762ef197b4",
              "IPY_MODEL_62f423e1dee649dbb97ce2c1c5589c32"
            ],
            "layout": "IPY_MODEL_c74f115f215d4959b7ad51335326f1e7"
          }
        },
        "d7c978544b16445181ae723ed6729f8c": {
          "model_module": "@jupyter-widgets/controls",
          "model_name": "HTMLModel",
          "model_module_version": "1.5.0",
          "state": {
            "_dom_classes": [],
            "_model_module": "@jupyter-widgets/controls",
            "_model_module_version": "1.5.0",
            "_model_name": "HTMLModel",
            "_view_count": null,
            "_view_module": "@jupyter-widgets/controls",
            "_view_module_version": "1.5.0",
            "_view_name": "HTMLView",
            "description": "",
            "description_tooltip": null,
            "layout": "IPY_MODEL_decb94b84c7d40289a6de34fc6ae82d0",
            "placeholder": "​",
            "style": "IPY_MODEL_3b3e563d2224450fbb1e13ba14f009d0",
            "value": "Map: 100%"
          }
        },
        "d29cff035fd54544add70b762ef197b4": {
          "model_module": "@jupyter-widgets/controls",
          "model_name": "FloatProgressModel",
          "model_module_version": "1.5.0",
          "state": {
            "_dom_classes": [],
            "_model_module": "@jupyter-widgets/controls",
            "_model_module_version": "1.5.0",
            "_model_name": "FloatProgressModel",
            "_view_count": null,
            "_view_module": "@jupyter-widgets/controls",
            "_view_module_version": "1.5.0",
            "_view_name": "ProgressView",
            "bar_style": "",
            "description": "",
            "description_tooltip": null,
            "layout": "IPY_MODEL_b37ae60ef1b64263b30a0f77272c665a",
            "max": 646,
            "min": 0,
            "orientation": "horizontal",
            "style": "IPY_MODEL_0e673cbb86144a16987b3679afd1d35b",
            "value": 646
          }
        },
        "62f423e1dee649dbb97ce2c1c5589c32": {
          "model_module": "@jupyter-widgets/controls",
          "model_name": "HTMLModel",
          "model_module_version": "1.5.0",
          "state": {
            "_dom_classes": [],
            "_model_module": "@jupyter-widgets/controls",
            "_model_module_version": "1.5.0",
            "_model_name": "HTMLModel",
            "_view_count": null,
            "_view_module": "@jupyter-widgets/controls",
            "_view_module_version": "1.5.0",
            "_view_name": "HTMLView",
            "description": "",
            "description_tooltip": null,
            "layout": "IPY_MODEL_ae2361d0ab304d5f8ee8618f2fa4f3a1",
            "placeholder": "​",
            "style": "IPY_MODEL_f024784a699844d09744cceb081aebb2",
            "value": " 646/646 [00:01&lt;00:00, 572.76 examples/s]"
          }
        },
        "c74f115f215d4959b7ad51335326f1e7": {
          "model_module": "@jupyter-widgets/base",
          "model_name": "LayoutModel",
          "model_module_version": "1.2.0",
          "state": {
            "_model_module": "@jupyter-widgets/base",
            "_model_module_version": "1.2.0",
            "_model_name": "LayoutModel",
            "_view_count": null,
            "_view_module": "@jupyter-widgets/base",
            "_view_module_version": "1.2.0",
            "_view_name": "LayoutView",
            "align_content": null,
            "align_items": null,
            "align_self": null,
            "border": null,
            "bottom": null,
            "display": null,
            "flex": null,
            "flex_flow": null,
            "grid_area": null,
            "grid_auto_columns": null,
            "grid_auto_flow": null,
            "grid_auto_rows": null,
            "grid_column": null,
            "grid_gap": null,
            "grid_row": null,
            "grid_template_areas": null,
            "grid_template_columns": null,
            "grid_template_rows": null,
            "height": null,
            "justify_content": null,
            "justify_items": null,
            "left": null,
            "margin": null,
            "max_height": null,
            "max_width": null,
            "min_height": null,
            "min_width": null,
            "object_fit": null,
            "object_position": null,
            "order": null,
            "overflow": null,
            "overflow_x": null,
            "overflow_y": null,
            "padding": null,
            "right": null,
            "top": null,
            "visibility": "hidden",
            "width": null
          }
        },
        "decb94b84c7d40289a6de34fc6ae82d0": {
          "model_module": "@jupyter-widgets/base",
          "model_name": "LayoutModel",
          "model_module_version": "1.2.0",
          "state": {
            "_model_module": "@jupyter-widgets/base",
            "_model_module_version": "1.2.0",
            "_model_name": "LayoutModel",
            "_view_count": null,
            "_view_module": "@jupyter-widgets/base",
            "_view_module_version": "1.2.0",
            "_view_name": "LayoutView",
            "align_content": null,
            "align_items": null,
            "align_self": null,
            "border": null,
            "bottom": null,
            "display": null,
            "flex": null,
            "flex_flow": null,
            "grid_area": null,
            "grid_auto_columns": null,
            "grid_auto_flow": null,
            "grid_auto_rows": null,
            "grid_column": null,
            "grid_gap": null,
            "grid_row": null,
            "grid_template_areas": null,
            "grid_template_columns": null,
            "grid_template_rows": null,
            "height": null,
            "justify_content": null,
            "justify_items": null,
            "left": null,
            "margin": null,
            "max_height": null,
            "max_width": null,
            "min_height": null,
            "min_width": null,
            "object_fit": null,
            "object_position": null,
            "order": null,
            "overflow": null,
            "overflow_x": null,
            "overflow_y": null,
            "padding": null,
            "right": null,
            "top": null,
            "visibility": null,
            "width": null
          }
        },
        "3b3e563d2224450fbb1e13ba14f009d0": {
          "model_module": "@jupyter-widgets/controls",
          "model_name": "DescriptionStyleModel",
          "model_module_version": "1.5.0",
          "state": {
            "_model_module": "@jupyter-widgets/controls",
            "_model_module_version": "1.5.0",
            "_model_name": "DescriptionStyleModel",
            "_view_count": null,
            "_view_module": "@jupyter-widgets/base",
            "_view_module_version": "1.2.0",
            "_view_name": "StyleView",
            "description_width": ""
          }
        },
        "b37ae60ef1b64263b30a0f77272c665a": {
          "model_module": "@jupyter-widgets/base",
          "model_name": "LayoutModel",
          "model_module_version": "1.2.0",
          "state": {
            "_model_module": "@jupyter-widgets/base",
            "_model_module_version": "1.2.0",
            "_model_name": "LayoutModel",
            "_view_count": null,
            "_view_module": "@jupyter-widgets/base",
            "_view_module_version": "1.2.0",
            "_view_name": "LayoutView",
            "align_content": null,
            "align_items": null,
            "align_self": null,
            "border": null,
            "bottom": null,
            "display": null,
            "flex": null,
            "flex_flow": null,
            "grid_area": null,
            "grid_auto_columns": null,
            "grid_auto_flow": null,
            "grid_auto_rows": null,
            "grid_column": null,
            "grid_gap": null,
            "grid_row": null,
            "grid_template_areas": null,
            "grid_template_columns": null,
            "grid_template_rows": null,
            "height": null,
            "justify_content": null,
            "justify_items": null,
            "left": null,
            "margin": null,
            "max_height": null,
            "max_width": null,
            "min_height": null,
            "min_width": null,
            "object_fit": null,
            "object_position": null,
            "order": null,
            "overflow": null,
            "overflow_x": null,
            "overflow_y": null,
            "padding": null,
            "right": null,
            "top": null,
            "visibility": null,
            "width": null
          }
        },
        "0e673cbb86144a16987b3679afd1d35b": {
          "model_module": "@jupyter-widgets/controls",
          "model_name": "ProgressStyleModel",
          "model_module_version": "1.5.0",
          "state": {
            "_model_module": "@jupyter-widgets/controls",
            "_model_module_version": "1.5.0",
            "_model_name": "ProgressStyleModel",
            "_view_count": null,
            "_view_module": "@jupyter-widgets/base",
            "_view_module_version": "1.2.0",
            "_view_name": "StyleView",
            "bar_color": null,
            "description_width": ""
          }
        },
        "ae2361d0ab304d5f8ee8618f2fa4f3a1": {
          "model_module": "@jupyter-widgets/base",
          "model_name": "LayoutModel",
          "model_module_version": "1.2.0",
          "state": {
            "_model_module": "@jupyter-widgets/base",
            "_model_module_version": "1.2.0",
            "_model_name": "LayoutModel",
            "_view_count": null,
            "_view_module": "@jupyter-widgets/base",
            "_view_module_version": "1.2.0",
            "_view_name": "LayoutView",
            "align_content": null,
            "align_items": null,
            "align_self": null,
            "border": null,
            "bottom": null,
            "display": null,
            "flex": null,
            "flex_flow": null,
            "grid_area": null,
            "grid_auto_columns": null,
            "grid_auto_flow": null,
            "grid_auto_rows": null,
            "grid_column": null,
            "grid_gap": null,
            "grid_row": null,
            "grid_template_areas": null,
            "grid_template_columns": null,
            "grid_template_rows": null,
            "height": null,
            "justify_content": null,
            "justify_items": null,
            "left": null,
            "margin": null,
            "max_height": null,
            "max_width": null,
            "min_height": null,
            "min_width": null,
            "object_fit": null,
            "object_position": null,
            "order": null,
            "overflow": null,
            "overflow_x": null,
            "overflow_y": null,
            "padding": null,
            "right": null,
            "top": null,
            "visibility": null,
            "width": null
          }
        },
        "f024784a699844d09744cceb081aebb2": {
          "model_module": "@jupyter-widgets/controls",
          "model_name": "DescriptionStyleModel",
          "model_module_version": "1.5.0",
          "state": {
            "_model_module": "@jupyter-widgets/controls",
            "_model_module_version": "1.5.0",
            "_model_name": "DescriptionStyleModel",
            "_view_count": null,
            "_view_module": "@jupyter-widgets/base",
            "_view_module_version": "1.2.0",
            "_view_name": "StyleView",
            "description_width": ""
          }
        }
      }
    }
  },
  "nbformat": 4,
  "nbformat_minor": 0
}